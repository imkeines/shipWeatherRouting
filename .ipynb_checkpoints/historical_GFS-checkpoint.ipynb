{
 "cells": [
  {
   "cell_type": "markdown",
   "metadata": {},
   "source": [
    "## GFS historical Data"
   ]
  },
  {
   "cell_type": "code",
   "execution_count": 1,
   "metadata": {
    "ExecuteTime": {
     "end_time": "2021-03-11T09:47:44.294608Z",
     "start_time": "2021-03-11T09:47:44.032684Z"
    }
   },
   "outputs": [
    {
     "data": {
      "application/javascript": [
       "\n",
       "            setTimeout(function() {\n",
       "                var nbb_cell_id = 1;\n",
       "                var nbb_unformatted_code = \"from siphon.catalog import TDSCatalog\\n\\n\\n# for autocompletion disable the autocompletion tool 'jedi'\\n%config Completer.use_jedi = False\\n\\n\\n# formatter\\n%load_ext nb_black\";\n",
       "                var nbb_formatted_code = \"from siphon.catalog import TDSCatalog\\n\\n\\n# for autocompletion disable the autocompletion tool 'jedi'\\n%config Completer.use_jedi = False\\n\\n\\n# formatter\\n%load_ext nb_black\";\n",
       "                var nbb_cells = Jupyter.notebook.get_cells();\n",
       "                for (var i = 0; i < nbb_cells.length; ++i) {\n",
       "                    if (nbb_cells[i].input_prompt_number == nbb_cell_id) {\n",
       "                        if (nbb_cells[i].get_text() == nbb_unformatted_code) {\n",
       "                             nbb_cells[i].set_text(nbb_formatted_code);\n",
       "                        }\n",
       "                        break;\n",
       "                    }\n",
       "                }\n",
       "            }, 500);\n",
       "            "
      ],
      "text/plain": [
       "<IPython.core.display.Javascript object>"
      ]
     },
     "metadata": {},
     "output_type": "display_data"
    }
   ],
   "source": [
    "from siphon.catalog import TDSCatalog\n",
    "\n",
    "\n",
    "# for autocompletion disable the autocompletion tool 'jedi'\n",
    "%config Completer.use_jedi = False\n",
    "\n",
    "\n",
    "# formatter\n",
    "%load_ext nb_black"
   ]
  },
  {
   "cell_type": "code",
   "execution_count": 2,
   "metadata": {
    "ExecuteTime": {
     "end_time": "2021-03-11T09:47:45.403267Z",
     "start_time": "2021-03-11T09:47:44.296709Z"
    }
   },
   "outputs": [
    {
     "data": {
      "text/plain": [
       "['Forecast Model Data', 'Forecast Products and Analyses', 'Observation Data', 'Radar Data', 'Satellite Data', 'Unidata case studies']"
      ]
     },
     "execution_count": 2,
     "metadata": {},
     "output_type": "execute_result"
    },
    {
     "data": {
      "application/javascript": [
       "\n",
       "            setTimeout(function() {\n",
       "                var nbb_cell_id = 2;\n",
       "                var nbb_unformatted_code = \"# Catalog https://thredds.ucar.edu/thredds/catalog/grib/NCEP/GFS/Global_0p25deg/catalog.html\\ncatalog = TDSCatalog(catalog_url=\\\"http://thredds.ucar.edu/thredds/catalog.xml\\\")\\ncatalog.catalog_refs\";\n",
       "                var nbb_formatted_code = \"# Catalog https://thredds.ucar.edu/thredds/catalog/grib/NCEP/GFS/Global_0p25deg/catalog.html\\ncatalog = TDSCatalog(catalog_url=\\\"http://thredds.ucar.edu/thredds/catalog.xml\\\")\\ncatalog.catalog_refs\";\n",
       "                var nbb_cells = Jupyter.notebook.get_cells();\n",
       "                for (var i = 0; i < nbb_cells.length; ++i) {\n",
       "                    if (nbb_cells[i].input_prompt_number == nbb_cell_id) {\n",
       "                        if (nbb_cells[i].get_text() == nbb_unformatted_code) {\n",
       "                             nbb_cells[i].set_text(nbb_formatted_code);\n",
       "                        }\n",
       "                        break;\n",
       "                    }\n",
       "                }\n",
       "            }, 500);\n",
       "            "
      ],
      "text/plain": [
       "<IPython.core.display.Javascript object>"
      ]
     },
     "metadata": {},
     "output_type": "display_data"
    }
   ],
   "source": [
    "# Catalog https://thredds.ucar.edu/thredds/catalog/grib/NCEP/GFS/Global_0p25deg/catalog.html\n",
    "catalog = TDSCatalog(catalog_url=\"http://thredds.ucar.edu/thredds/catalog.xml\")\n",
    "catalog.catalog_refs"
   ]
  },
  {
   "cell_type": "code",
   "execution_count": 3,
   "metadata": {
    "ExecuteTime": {
     "end_time": "2021-03-11T09:47:46.338914Z",
     "start_time": "2021-03-11T09:47:45.405320Z"
    }
   },
   "outputs": [
    {
     "data": {
      "text/plain": [
       "Unidata THREDDS Data Server - NCEP models"
      ]
     },
     "execution_count": 3,
     "metadata": {},
     "output_type": "execute_result"
    },
    {
     "data": {
      "application/javascript": [
       "\n",
       "            setTimeout(function() {\n",
       "                var nbb_cell_id = 3;\n",
       "                var nbb_unformatted_code = \"lala = catalog.catalog_refs[0]\\nnewCat = lala.follow()\\nnewCat\";\n",
       "                var nbb_formatted_code = \"lala = catalog.catalog_refs[0]\\nnewCat = lala.follow()\\nnewCat\";\n",
       "                var nbb_cells = Jupyter.notebook.get_cells();\n",
       "                for (var i = 0; i < nbb_cells.length; ++i) {\n",
       "                    if (nbb_cells[i].input_prompt_number == nbb_cell_id) {\n",
       "                        if (nbb_cells[i].get_text() == nbb_unformatted_code) {\n",
       "                             nbb_cells[i].set_text(nbb_formatted_code);\n",
       "                        }\n",
       "                        break;\n",
       "                    }\n",
       "                }\n",
       "            }, 500);\n",
       "            "
      ],
      "text/plain": [
       "<IPython.core.display.Javascript object>"
      ]
     },
     "metadata": {},
     "output_type": "display_data"
    }
   ],
   "source": [
    "lala = catalog.catalog_refs[0]\n",
    "newCat = lala.follow()\n",
    "newCat"
   ]
  },
  {
   "cell_type": "code",
   "execution_count": 4,
   "metadata": {
    "ExecuteTime": {
     "end_time": "2021-03-11T09:47:46.349344Z",
     "start_time": "2021-03-11T09:47:46.340643Z"
    }
   },
   "outputs": [
    {
     "data": {
      "text/plain": [
       "['GEFS Members - Analysis', 'GEFS Members - Forecasts', 'GEFS Derived Forecast Products', 'GFS Quarter Degree Analysis', 'GFS Quarter Degree Forecast', 'GFS Half Degree Analysis', 'GFS Half Degree Forecast', 'GFS One Degree Analysis', 'GFS One Degree Forecast', 'GFS Global 1.0 Degree (NOAAPORT)', 'GFS Pacific 20km', 'GFS Puerto Rico Quarter Degree', 'GFS CONUS 80km', 'GFS CONUS 20km', 'GFS Alaska 20km', 'GSD HRRR CONUS 3km wrfprs', 'GSD HRRR CONUS 3km surface', 'NCEP HRRR CONUS 2.5km Analysis', 'NCEP HRRR CONUS 2.5km', 'NAM Alaska 11km', 'NAM Alaska 45km from NOAAPORT', 'NAM Alaska 45km from CONDUIT', 'NAM Alaska 95km', 'NAM CONUS 12km from NOAAPORT', 'NAM CONUS 12km from CONDUIT', 'NAM CONUS 20km', 'NAM CONUS 40km', 'NAM CONUS 80km', 'NAM Polar 90km', 'NAM Fireweather Nested', 'Rapid Refresh CONUS 13km', 'Rapid Refresh CONUS 20km', 'Rapid Refresh CONUS 40km', 'SREF CONUS 40km Ensemble Derived Products', 'SREF CONUS 40km Ensemble Derived Products (Bias Corrected)', 'SREF Alaska 45km Ensemble Derived Products', 'SREF Pacific North East 0.4 Degree Ensemble Derived Products', 'Wave Watch III Global', 'Wave Watch III Regional Alaska', 'Wave Watch III Coastal Alaska', 'Wave Watch III Regional Eastern Pacific', 'Wave Watch III Regional US East Coast', 'Wave Watch III Regional US West Coast', 'Wave Watch III Coastal US East Coast', 'Wave Watch III Coastal US West Coast', 'RDPS North America 15km', 'FNMOC NAVGEM Global 0.5 Degree', 'FNMOC WW3 Global 1.0 Degree', 'FNMOC WW3 Europe', 'FNMOC FAROP Global 1.0 Degree', 'FNMOC COAMPS Western Atlantic', 'FNMOC COAMPS Europe', 'FNMOC COAMPS Equatorial America', 'FNMOC COAMPS Northeast Pacific', 'FNMOC COAMPS Southern California', 'FNMOC NCODA Global Ocean']"
      ]
     },
     "execution_count": 4,
     "metadata": {},
     "output_type": "execute_result"
    },
    {
     "data": {
      "application/javascript": [
       "\n",
       "            setTimeout(function() {\n",
       "                var nbb_cell_id = 4;\n",
       "                var nbb_unformatted_code = \"newCat2 = newCat.catalog_refs\\nnewCat2\";\n",
       "                var nbb_formatted_code = \"newCat2 = newCat.catalog_refs\\nnewCat2\";\n",
       "                var nbb_cells = Jupyter.notebook.get_cells();\n",
       "                for (var i = 0; i < nbb_cells.length; ++i) {\n",
       "                    if (nbb_cells[i].input_prompt_number == nbb_cell_id) {\n",
       "                        if (nbb_cells[i].get_text() == nbb_unformatted_code) {\n",
       "                             nbb_cells[i].set_text(nbb_formatted_code);\n",
       "                        }\n",
       "                        break;\n",
       "                    }\n",
       "                }\n",
       "            }, 500);\n",
       "            "
      ],
      "text/plain": [
       "<IPython.core.display.Javascript object>"
      ]
     },
     "metadata": {},
     "output_type": "display_data"
    }
   ],
   "source": [
    "newCat2 = newCat.catalog_refs\n",
    "newCat2"
   ]
  },
  {
   "cell_type": "code",
   "execution_count": 10,
   "metadata": {
    "ExecuteTime": {
     "end_time": "2021-03-11T09:52:07.804657Z",
     "start_time": "2021-03-11T09:52:06.943369Z"
    }
   },
   "outputs": [
    {
     "ename": "ParseError",
     "evalue": "no element found: line 1, column 0 (<string>)",
     "output_type": "error",
     "traceback": [
      "Traceback \u001b[0;36m(most recent call last)\u001b[0m:\n",
      "  File \u001b[1;32m\"/home/imke/miniconda3/envs/query_gfs/lib/python3.8/site-packages/IPython/core/interactiveshell.py\"\u001b[0m, line \u001b[1;32m3427\u001b[0m, in \u001b[1;35mrun_code\u001b[0m\n    exec(code_obj, self.user_global_ns, self.user_ns)\n",
      "  File \u001b[1;32m\"<ipython-input-10-ca4b6364b98a>\"\u001b[0m, line \u001b[1;32m2\u001b[0m, in \u001b[1;35m<module>\u001b[0m\n    GFS_025 = GFS_025_ref.follow()\n",
      "  File \u001b[1;32m\"/home/imke/miniconda3/envs/query_gfs/lib/python3.8/site-packages/siphon/catalog.py\"\u001b[0m, line \u001b[1;32m421\u001b[0m, in \u001b[1;35mfollow\u001b[0m\n    return TDSCatalog(self.href)\n",
      "  File \u001b[1;32m\"/home/imke/miniconda3/envs/query_gfs/lib/python3.8/site-packages/siphon/catalog.py\"\u001b[0m, line \u001b[1;32m274\u001b[0m, in \u001b[1;35m__init__\u001b[0m\n    root = ET.fromstring(resp.content)\n",
      "\u001b[0;36m  File \u001b[0;32m\"/home/imke/miniconda3/envs/query_gfs/lib/python3.8/xml/etree/ElementTree.py\"\u001b[0;36m, line \u001b[0;32m1321\u001b[0;36m, in \u001b[0;35mXML\u001b[0;36m\u001b[0m\n\u001b[0;31m    return parser.close()\u001b[0m\n",
      "\u001b[0;36m  File \u001b[0;32m\"<string>\"\u001b[0;36m, line \u001b[0;32munknown\u001b[0m\n\u001b[0;31mParseError\u001b[0m\u001b[0;31m:\u001b[0m no element found: line 1, column 0\n"
     ]
    },
    {
     "data": {
      "application/javascript": [
       "\n",
       "            setTimeout(function() {\n",
       "                var nbb_cell_id = 10;\n",
       "                var nbb_unformatted_code = \"GFS_025_ref = newCat2.get('GEFS Members - Analysis')\\nGFS_025 = GFS_025_ref.follow()\\nGFS_025.datasets\";\n",
       "                var nbb_formatted_code = \"GFS_025_ref = newCat2.get(\\\"GEFS Members - Analysis\\\")\\nGFS_025 = GFS_025_ref.follow()\\nGFS_025.datasets\";\n",
       "                var nbb_cells = Jupyter.notebook.get_cells();\n",
       "                for (var i = 0; i < nbb_cells.length; ++i) {\n",
       "                    if (nbb_cells[i].input_prompt_number == nbb_cell_id) {\n",
       "                        if (nbb_cells[i].get_text() == nbb_unformatted_code) {\n",
       "                             nbb_cells[i].set_text(nbb_formatted_code);\n",
       "                        }\n",
       "                        break;\n",
       "                    }\n",
       "                }\n",
       "            }, 500);\n",
       "            "
      ],
      "text/plain": [
       "<IPython.core.display.Javascript object>"
      ]
     },
     "metadata": {},
     "output_type": "display_data"
    }
   ],
   "source": [
    "GFS_025_ref = newCat2.get(\"GFS Quarter Degree Forecast\")\n",
    "GFS_025 = GFS_025_ref.follow()\n",
    "GFS_025.datasets"
   ]
  },
  {
   "cell_type": "code",
   "execution_count": 6,
   "metadata": {
    "ExecuteTime": {
     "end_time": "2021-03-11T09:47:47.896446Z",
     "start_time": "2021-03-11T09:47:47.885483Z"
    }
   },
   "outputs": [
    {
     "data": {
      "text/plain": [
       "{'OPENDAP': 'https://thredds.ucar.edu/thredds/dodsC/grib/NCEP/GFS/Global_0p25deg/Best',\n",
       " 'WCS': 'https://thredds.ucar.edu/thredds/wcs/grib/NCEP/GFS/Global_0p25deg/Best',\n",
       " 'WMS': 'https://thredds.ucar.edu/thredds/wms/grib/NCEP/GFS/Global_0p25deg/Best',\n",
       " 'NetcdfSubset': 'https://thredds.ucar.edu/thredds/ncss/grib/NCEP/GFS/Global_0p25deg/Best',\n",
       " 'CdmRemote': 'https://thredds.ucar.edu/thredds/cdmremote/grib/NCEP/GFS/Global_0p25deg/Best',\n",
       " 'NCML': 'https://thredds.ucar.edu/thredds/ncml/grib/NCEP/GFS/Global_0p25deg/Best',\n",
       " 'UDDC': 'https://thredds.ucar.edu/thredds/uddc/grib/NCEP/GFS/Global_0p25deg/Best',\n",
       " 'ISO': 'https://thredds.ucar.edu/thredds/iso/grib/NCEP/GFS/Global_0p25deg/Best'}"
      ]
     },
     "execution_count": 6,
     "metadata": {},
     "output_type": "execute_result"
    },
    {
     "data": {
      "application/javascript": [
       "\n",
       "            setTimeout(function() {\n",
       "                var nbb_cell_id = 6;\n",
       "                var nbb_unformatted_code = \"GFS_025_best = GFS_025.datasets[1]\\nGFS_025_best.access_urls\";\n",
       "                var nbb_formatted_code = \"GFS_025_best = GFS_025.datasets[1]\\nGFS_025_best.access_urls\";\n",
       "                var nbb_cells = Jupyter.notebook.get_cells();\n",
       "                for (var i = 0; i < nbb_cells.length; ++i) {\n",
       "                    if (nbb_cells[i].input_prompt_number == nbb_cell_id) {\n",
       "                        if (nbb_cells[i].get_text() == nbb_unformatted_code) {\n",
       "                             nbb_cells[i].set_text(nbb_formatted_code);\n",
       "                        }\n",
       "                        break;\n",
       "                    }\n",
       "                }\n",
       "            }, 500);\n",
       "            "
      ],
      "text/plain": [
       "<IPython.core.display.Javascript object>"
      ]
     },
     "metadata": {},
     "output_type": "display_data"
    }
   ],
   "source": [
    "GFS_025_best = GFS_025.datasets[1]\n",
    "GFS_025_best.access_urls"
   ]
  },
  {
   "cell_type": "code",
   "execution_count": null,
   "metadata": {
    "ExecuteTime": {
     "end_time": "2021-03-10T15:43:10.440356Z",
     "start_time": "2021-03-10T15:43:10.410945Z"
    }
   },
   "outputs": [],
   "source": []
  },
  {
   "cell_type": "code",
   "execution_count": 7,
   "metadata": {
    "ExecuteTime": {
     "end_time": "2021-03-11T09:47:47.909182Z",
     "start_time": "2021-03-11T09:47:47.902866Z"
    }
   },
   "outputs": [
    {
     "data": {
      "application/javascript": [
       "\n",
       "            setTimeout(function() {\n",
       "                var nbb_cell_id = 7;\n",
       "                var nbb_unformatted_code = \"# Catalog https://thredds.ucar.edu/thredds/catalog/grib/NCEP/GFS/Global_0p25deg/catalog.html\\n# best_gefs = TDSCatalog(\\n#     catalog_url=\\\"http://thredds.ucar.edu/thredds/catalog/grib/NCEP/GFS/\\\"\\n#     \\\"Global_1p0deg_Ensemble/members/catalog.xml\\\"\\n# )\\n\\n# # Give out the name of the dataset\\n# best_gefs.datasets\";\n",
       "                var nbb_formatted_code = \"# Catalog https://thredds.ucar.edu/thredds/catalog/grib/NCEP/GFS/Global_0p25deg/catalog.html\\n# best_gefs = TDSCatalog(\\n#     catalog_url=\\\"http://thredds.ucar.edu/thredds/catalog/grib/NCEP/GFS/\\\"\\n#     \\\"Global_1p0deg_Ensemble/members/catalog.xml\\\"\\n# )\\n\\n# # Give out the name of the dataset\\n# best_gefs.datasets\";\n",
       "                var nbb_cells = Jupyter.notebook.get_cells();\n",
       "                for (var i = 0; i < nbb_cells.length; ++i) {\n",
       "                    if (nbb_cells[i].input_prompt_number == nbb_cell_id) {\n",
       "                        if (nbb_cells[i].get_text() == nbb_unformatted_code) {\n",
       "                             nbb_cells[i].set_text(nbb_formatted_code);\n",
       "                        }\n",
       "                        break;\n",
       "                    }\n",
       "                }\n",
       "            }, 500);\n",
       "            "
      ],
      "text/plain": [
       "<IPython.core.display.Javascript object>"
      ]
     },
     "metadata": {},
     "output_type": "display_data"
    }
   ],
   "source": [
    "# Catalog https://thredds.ucar.edu/thredds/catalog/grib/NCEP/GFS/Global_0p25deg/catalog.html\n",
    "# best_gefs = TDSCatalog(\n",
    "#     catalog_url=\"http://thredds.ucar.edu/thredds/catalog/grib/NCEP/GFS/\"\n",
    "#     \"Global_1p0deg_Ensemble/members/catalog.xml\"\n",
    "# )\n",
    "\n",
    "# # Give out the name of the dataset\n",
    "# best_gefs.datasets"
   ]
  },
  {
   "cell_type": "code",
   "execution_count": null,
   "metadata": {},
   "outputs": [],
   "source": []
  }
 ],
 "metadata": {
  "kernelspec": {
   "display_name": "query_gfs",
   "language": "python",
   "name": "query_gfs"
  },
  "language_info": {
   "codemirror_mode": {
    "name": "ipython",
    "version": 3
   },
   "file_extension": ".py",
   "mimetype": "text/x-python",
   "name": "python",
   "nbconvert_exporter": "python",
   "pygments_lexer": "ipython3",
   "version": "3.8.5"
  }
 },
 "nbformat": 4,
 "nbformat_minor": 4
}
