{
 "cells": [
  {
   "cell_type": "markdown",
   "metadata": {},
   "source": [
    "1. Query GFS data, full extent and small part vitual file\n",
    "2. Plot the virtual data\n",
    "3. Create actual netCDF files\n",
    "4. Store the files as netCDF"
   ]
  },
  {
   "cell_type": "code",
   "execution_count": 1,
   "metadata": {
    "ExecuteTime": {
     "end_time": "2021-03-04T14:45:48.949385Z",
     "start_time": "2021-03-04T14:45:48.856680Z"
    }
   },
   "outputs": [
    {
     "data": {
      "application/javascript": [
       "\n",
       "            setTimeout(function() {\n",
       "                var nbb_cell_id = 1;\n",
       "                var nbb_unformatted_code = \"# for autocompletion disable the autocompletion tool 'jedi'\\n%config Completer.use_jedi = False\\n\\n\\n# formatter\\n%load_ext nb_black\";\n",
       "                var nbb_formatted_code = \"# for autocompletion disable the autocompletion tool 'jedi'\\n%config Completer.use_jedi = False\\n\\n\\n# formatter\\n%load_ext nb_black\";\n",
       "                var nbb_cells = Jupyter.notebook.get_cells();\n",
       "                for (var i = 0; i < nbb_cells.length; ++i) {\n",
       "                    if (nbb_cells[i].input_prompt_number == nbb_cell_id) {\n",
       "                        if (nbb_cells[i].get_text() == nbb_unformatted_code) {\n",
       "                             nbb_cells[i].set_text(nbb_formatted_code);\n",
       "                        }\n",
       "                        break;\n",
       "                    }\n",
       "                }\n",
       "            }, 500);\n",
       "            "
      ],
      "text/plain": [
       "<IPython.core.display.Javascript object>"
      ]
     },
     "metadata": {},
     "output_type": "display_data"
    }
   ],
   "source": [
    "# for autocompletion disable the autocompletion tool 'jedi'\n",
    "%config Completer.use_jedi = False\n",
    "\n",
    "\n",
    "# formatter\n",
    "%load_ext nb_black"
   ]
  },
  {
   "cell_type": "markdown",
   "metadata": {},
   "source": [
    "The coordinate system of the GFS Data is a little unusual, as longitudes run from 0 to 360 degrees. So a full extend would be latitudes -90° (south) to 90° (north) and longitudes 0° (west) to 360° (east).\n",
    "Furthermore, there is a restriction in the way you can query data. Your west longitude coordinate needs to be smaller than the east coordinate. Accordingly, you cannot set a bounding box for a small area including the Meridian as then your west coordinate would be greater than the east coordinate.\n",
    "Instead you may need to consider to query the full extend for the longitude.\n",
    "We will have a look at this circumstance in this Jupyter Notebook.  \n",
    "\n",
    "In this notebook we will use the NetCDF Subset Service (NCSS). For specifications have a look its rerefence: https://www.unidata.ucar.edu/software/tds/current/reference/NetcdfSubsetServiceReference.html\n"
   ]
  },
  {
   "cell_type": "markdown",
   "metadata": {},
   "source": [
    "# Query full extend"
   ]
  },
  {
   "cell_type": "code",
   "execution_count": 2,
   "metadata": {
    "ExecuteTime": {
     "end_time": "2021-03-04T14:45:48.995267Z",
     "start_time": "2021-03-04T14:45:48.950675Z"
    }
   },
   "outputs": [
    {
     "data": {
      "text/plain": [
       "'\\n    Siphon is a collection of Python utilities for downloading data from remote data services. \\n    Much of Siphon’s current functionality focuses on access to data hosted on a THREDDS Data Server. \\n    It also provides clients to a variety of simple web services.\\n    Link to documentation:https://unidata.github.io/siphon/latest/index.html\\n'"
      ]
     },
     "execution_count": 2,
     "metadata": {},
     "output_type": "execute_result"
    },
    {
     "data": {
      "application/javascript": [
       "\n",
       "            setTimeout(function() {\n",
       "                var nbb_cell_id = 2;\n",
       "                var nbb_unformatted_code = \"from siphon.catalog import TDSCatalog\\n\\n\\\"\\\"\\\"\\n    Siphon is a collection of Python utilities for downloading data from remote data services. \\n    Much of Siphon\\u2019s current functionality focuses on access to data hosted on a THREDDS Data Server. \\n    It also provides clients to a variety of simple web services.\\n    Link to documentation:https://unidata.github.io/siphon/latest/index.html\\n\\\"\\\"\\\"\";\n",
       "                var nbb_formatted_code = \"from siphon.catalog import TDSCatalog\\n\\n\\\"\\\"\\\"\\n    Siphon is a collection of Python utilities for downloading data from remote data services. \\n    Much of Siphon\\u2019s current functionality focuses on access to data hosted on a THREDDS Data Server. \\n    It also provides clients to a variety of simple web services.\\n    Link to documentation:https://unidata.github.io/siphon/latest/index.html\\n\\\"\\\"\\\"\";\n",
       "                var nbb_cells = Jupyter.notebook.get_cells();\n",
       "                for (var i = 0; i < nbb_cells.length; ++i) {\n",
       "                    if (nbb_cells[i].input_prompt_number == nbb_cell_id) {\n",
       "                        if (nbb_cells[i].get_text() == nbb_unformatted_code) {\n",
       "                             nbb_cells[i].set_text(nbb_formatted_code);\n",
       "                        }\n",
       "                        break;\n",
       "                    }\n",
       "                }\n",
       "            }, 500);\n",
       "            "
      ],
      "text/plain": [
       "<IPython.core.display.Javascript object>"
      ]
     },
     "metadata": {},
     "output_type": "display_data"
    }
   ],
   "source": [
    "from siphon.catalog import TDSCatalog\n",
    "\n",
    "\"\"\"\n",
    "    Siphon is a collection of Python utilities for downloading data from remote data services. \n",
    "    Much of Siphon’s current functionality focuses on access to data hosted on a THREDDS Data Server. \n",
    "    It also provides clients to a variety of simple web services.\n",
    "    Link to documentation:https://unidata.github.io/siphon/latest/index.html\n",
    "\"\"\""
   ]
  },
  {
   "cell_type": "code",
   "execution_count": 3,
   "metadata": {
    "ExecuteTime": {
     "end_time": "2021-03-04T14:45:50.793339Z",
     "start_time": "2021-03-04T14:45:48.997808Z"
    }
   },
   "outputs": [
    {
     "data": {
      "text/plain": [
       "['Best GFS Quarter Degree Forecast Time Series']"
      ]
     },
     "execution_count": 3,
     "metadata": {},
     "output_type": "execute_result"
    },
    {
     "data": {
      "application/javascript": [
       "\n",
       "            setTimeout(function() {\n",
       "                var nbb_cell_id = 3;\n",
       "                var nbb_unformatted_code = \"\\\"\\\"\\\"\\n    Read a catalog from THREDDS Data Server (TDS). THREDDS Catalogs are \\n    logical directories of on-line data resources, encoded as XML documents, \\n    which provide a place for annotations and other metadata about the data resources \\n    to reside. This is how THREDDS-enabled data consumers find out what data is available \\n    from data providers. \\n    \\n    First construct a TDSCatalog instance pointing to the dataset of interest, in this \\n    case TDS\\u2019 \\u201cBest\\u201d virtual dataset for the GFS global 0.25 degree collection of \\n    GRIB files. \\n    This catalog contains a single dataset.\\n\\\"\\\"\\\"\\n# Catalog https://thredds.ucar.edu/thredds/catalog/grib/NCEP/GFS/Global_0p25deg/catalog.html\\nbest_gfs = TDSCatalog(\\n    catalog_url=\\\"http://thredds.ucar.edu/thredds/catalog/grib/NCEP/GFS/\\\"\\n    \\\"Global_0p25deg/catalog.xml?dataset=grib/NCEP/GFS/Global_0p25deg/Best\\\"\\n)\\n\\n# # https://thredds.ucar.edu/thredds/catalog/grib/NCEP/RAP/CONUS_13km/RR_CONUS_13km_20210131_0000.grib2/catalog.html\\n# best_gefs = TDSCatalog(\\n#     catalog_url=\\\"http://thredds.ucar.edu/thredds/catalog/grib/NCEP/RAP/\\\"\\n#     \\\"CONUS_13km/catalog.xml?dataset=grib/NCEP/RAP/CONUS_13km\\\"\\n# )\\n\\n# Give out the name of the dataset\\nbest_gfs.datasets\";\n",
       "                var nbb_formatted_code = \"\\\"\\\"\\\"\\n    Read a catalog from THREDDS Data Server (TDS). THREDDS Catalogs are \\n    logical directories of on-line data resources, encoded as XML documents, \\n    which provide a place for annotations and other metadata about the data resources \\n    to reside. This is how THREDDS-enabled data consumers find out what data is available \\n    from data providers. \\n    \\n    First construct a TDSCatalog instance pointing to the dataset of interest, in this \\n    case TDS\\u2019 \\u201cBest\\u201d virtual dataset for the GFS global 0.25 degree collection of \\n    GRIB files. \\n    This catalog contains a single dataset.\\n\\\"\\\"\\\"\\n# Catalog https://thredds.ucar.edu/thredds/catalog/grib/NCEP/GFS/Global_0p25deg/catalog.html\\nbest_gfs = TDSCatalog(\\n    catalog_url=\\\"http://thredds.ucar.edu/thredds/catalog/grib/NCEP/GFS/\\\"\\n    \\\"Global_0p25deg/catalog.xml?dataset=grib/NCEP/GFS/Global_0p25deg/Best\\\"\\n)\\n\\n# # https://thredds.ucar.edu/thredds/catalog/grib/NCEP/RAP/CONUS_13km/RR_CONUS_13km_20210131_0000.grib2/catalog.html\\n# best_gefs = TDSCatalog(\\n#     catalog_url=\\\"http://thredds.ucar.edu/thredds/catalog/grib/NCEP/RAP/\\\"\\n#     \\\"CONUS_13km/catalog.xml?dataset=grib/NCEP/RAP/CONUS_13km\\\"\\n# )\\n\\n# Give out the name of the dataset\\nbest_gfs.datasets\";\n",
       "                var nbb_cells = Jupyter.notebook.get_cells();\n",
       "                for (var i = 0; i < nbb_cells.length; ++i) {\n",
       "                    if (nbb_cells[i].input_prompt_number == nbb_cell_id) {\n",
       "                        if (nbb_cells[i].get_text() == nbb_unformatted_code) {\n",
       "                             nbb_cells[i].set_text(nbb_formatted_code);\n",
       "                        }\n",
       "                        break;\n",
       "                    }\n",
       "                }\n",
       "            }, 500);\n",
       "            "
      ],
      "text/plain": [
       "<IPython.core.display.Javascript object>"
      ]
     },
     "metadata": {},
     "output_type": "display_data"
    }
   ],
   "source": [
    "\"\"\"\n",
    "    Read a catalog from THREDDS Data Server (TDS). THREDDS Catalogs are \n",
    "    logical directories of on-line data resources, encoded as XML documents, \n",
    "    which provide a place for annotations and other metadata about the data resources \n",
    "    to reside. This is how THREDDS-enabled data consumers find out what data is available \n",
    "    from data providers. \n",
    "    \n",
    "    First construct a TDSCatalog instance pointing to the dataset of interest, in this \n",
    "    case TDS’ “Best” virtual dataset for the GFS global 0.25 degree collection of \n",
    "    GRIB files. \n",
    "    This catalog contains a single dataset.\n",
    "\"\"\"\n",
    "# Catalog https://thredds.ucar.edu/thredds/catalog/grib/NCEP/GFS/Global_0p25deg/catalog.html\n",
    "best_gfs = TDSCatalog(\n",
    "    catalog_url=\"http://thredds.ucar.edu/thredds/catalog/grib/NCEP/GFS/\"\n",
    "    \"Global_0p25deg/catalog.xml?dataset=grib/NCEP/GFS/Global_0p25deg/Best\"\n",
    ")\n",
    "\n",
    "# # https://thredds.ucar.edu/thredds/catalog/grib/NCEP/RAP/CONUS_13km/RR_CONUS_13km_20210131_0000.grib2/catalog.html\n",
    "# best_gefs = TDSCatalog(\n",
    "#     catalog_url=\"http://thredds.ucar.edu/thredds/catalog/grib/NCEP/RAP/\"\n",
    "#     \"CONUS_13km/catalog.xml?dataset=grib/NCEP/RAP/CONUS_13km\"\n",
    "# )\n",
    "\n",
    "# Give out the name of the dataset\n",
    "best_gfs.datasets"
   ]
  },
  {
   "cell_type": "code",
   "execution_count": 4,
   "metadata": {
    "ExecuteTime": {
     "end_time": "2021-03-04T14:45:50.803699Z",
     "start_time": "2021-03-04T14:45:50.796945Z"
    },
    "scrolled": false
   },
   "outputs": [
    {
     "data": {
      "text/plain": [
       "{'inherited': True,\n",
       " 'serviceName': 'VirtualServices',\n",
       " 'authority': ['edu.ucar.unidata'],\n",
       " 'dataType': 'GRID',\n",
       " 'dataFormat': 'GRIB-2',\n",
       " 'documentation': {'summary': ['Forecasts grids starting from the 0 hour forecast every 3 hours out to 10 days, then 12 hour forecasts for days 10-16.',\n",
       "   'NCEP GFS Model : AWIPS 230 (G) Grid. Global Lat/Lon grid. Model runs at 0, 6, 12, and 18Z. Horizontal= 721 by 14400 points, resolution 0.25 degree, Lat/Lon projection. Vertical= 1000 to 100 hPa mandatory pressure levels (26 levels); surface, height above ground, pressure layers.',\n",
       "   'NCEP Global Forecast System Model, previously called AVN/MRF (Medium Range Forecast)'],\n",
       "  'xlink': [{'title': 'COMET MetEd (Meteorology Education and Training) documentation',\n",
       "    'href': 'http://meted.ucar.edu/nwp/pcu2/avintro.htm'},\n",
       "   {'title': 'NCEP Model Notes',\n",
       "    'href': 'http://www.nco.ncep.noaa.gov/pmb/products/gfs/'},\n",
       "   {'title': 'NCEP Model documentation',\n",
       "    'href': 'http://www.emc.ncep.noaa.gov/modelinfo/index.html'},\n",
       "   {'title': 'NCEP/NWS Model Analyses and Forecasts page',\n",
       "    'href': 'http://www.nco.ncep.noaa.gov/pmb/nwprod/analysis/'},\n",
       "   {'title': 'Unidata IDD Model Data page',\n",
       "    'href': 'http://www.unidata.ucar.edu/data/index.html#model'}],\n",
       "  'rights': ['Freely available'],\n",
       "  'processing_level': ['Transmitted through Unidata Internet Data Distribution.',\n",
       "   'Read by CDM Grib Collection.']},\n",
       " 'creator': [{}, {}],\n",
       " 'property': {'Originating_or_generating_Center': 'US National Weather Service, National Centres for Environmental Prediction (NCEP)',\n",
       "  'Originating_or_generating_Subcenter': '0',\n",
       "  'GRIB_table_version': '2,1',\n",
       "  'Type_of_generating_process': 'Forecast',\n",
       "  'Analysis_or_forecast_generating_process_identifier_defined_by_originating_centre': 'Analysis from GFS (Global Forecast System)',\n",
       "  'file_format': 'GRIB-2',\n",
       "  'Conventions': 'CF-1.6',\n",
       "  'history': 'Read using CDM IOSP GribCollection v3',\n",
       "  'featureType': 'GRID'},\n",
       " 'publisher': [{}, {}],\n",
       " 'geospatialCoverage': [{}],\n",
       " 'timeCoverage': [{}],\n",
       " 'variableMap': [{'{http://www.w3.org/1999/xlink}href': '/thredds/metadata/grib/NCEP/GFS/Global_0p25deg/Best?metadata=variableMap',\n",
       "   '{http://www.w3.org/1999/xlink}title': 'variables'}]}"
      ]
     },
     "execution_count": 4,
     "metadata": {},
     "output_type": "execute_result"
    },
    {
     "data": {
      "application/javascript": [
       "\n",
       "            setTimeout(function() {\n",
       "                var nbb_cell_id = 4;\n",
       "                var nbb_unformatted_code = \"# Inspect the metdata of the dataset\\nbest_gfs.metadata\";\n",
       "                var nbb_formatted_code = \"# Inspect the metdata of the dataset\\nbest_gfs.metadata\";\n",
       "                var nbb_cells = Jupyter.notebook.get_cells();\n",
       "                for (var i = 0; i < nbb_cells.length; ++i) {\n",
       "                    if (nbb_cells[i].input_prompt_number == nbb_cell_id) {\n",
       "                        if (nbb_cells[i].get_text() == nbb_unformatted_code) {\n",
       "                             nbb_cells[i].set_text(nbb_formatted_code);\n",
       "                        }\n",
       "                        break;\n",
       "                    }\n",
       "                }\n",
       "            }, 500);\n",
       "            "
      ],
      "text/plain": [
       "<IPython.core.display.Javascript object>"
      ]
     },
     "metadata": {},
     "output_type": "display_data"
    }
   ],
   "source": [
    "# Inspect the metdata of the dataset\n",
    "best_gfs.metadata"
   ]
  },
  {
   "cell_type": "code",
   "execution_count": 5,
   "metadata": {
    "ExecuteTime": {
     "end_time": "2021-03-04T14:45:50.819699Z",
     "start_time": "2021-03-04T14:45:50.805562Z"
    }
   },
   "outputs": [
    {
     "data": {
      "application/javascript": [
       "\n",
       "            setTimeout(function() {\n",
       "                var nbb_cell_id = 5;\n",
       "                var nbb_unformatted_code = \"# Pull out the dataset and create list containing the dataset\\nbest_ds = list(best_gfs.datasets.values())[0]\";\n",
       "                var nbb_formatted_code = \"# Pull out the dataset and create list containing the dataset\\nbest_ds = list(best_gfs.datasets.values())[0]\";\n",
       "                var nbb_cells = Jupyter.notebook.get_cells();\n",
       "                for (var i = 0; i < nbb_cells.length; ++i) {\n",
       "                    if (nbb_cells[i].input_prompt_number == nbb_cell_id) {\n",
       "                        if (nbb_cells[i].get_text() == nbb_unformatted_code) {\n",
       "                             nbb_cells[i].set_text(nbb_formatted_code);\n",
       "                        }\n",
       "                        break;\n",
       "                    }\n",
       "                }\n",
       "            }, 500);\n",
       "            "
      ],
      "text/plain": [
       "<IPython.core.display.Javascript object>"
      ]
     },
     "metadata": {},
     "output_type": "display_data"
    }
   ],
   "source": [
    "# Pull out the dataset and create list containing the dataset\n",
    "best_ds = list(best_gfs.datasets.values())[0]"
   ]
  },
  {
   "cell_type": "code",
   "execution_count": 6,
   "metadata": {
    "ExecuteTime": {
     "end_time": "2021-03-04T14:45:53.692134Z",
     "start_time": "2021-03-04T14:45:50.821956Z"
    }
   },
   "outputs": [
    {
     "data": {
      "application/javascript": [
       "\n",
       "            setTimeout(function() {\n",
       "                var nbb_cell_id = 6;\n",
       "                var nbb_unformatted_code = \"# Call subset() to prepare a request of a subset of the data\\nncss = best_ds.subset()\";\n",
       "                var nbb_formatted_code = \"# Call subset() to prepare a request of a subset of the data\\nncss = best_ds.subset()\";\n",
       "                var nbb_cells = Jupyter.notebook.get_cells();\n",
       "                for (var i = 0; i < nbb_cells.length; ++i) {\n",
       "                    if (nbb_cells[i].input_prompt_number == nbb_cell_id) {\n",
       "                        if (nbb_cells[i].get_text() == nbb_unformatted_code) {\n",
       "                             nbb_cells[i].set_text(nbb_formatted_code);\n",
       "                        }\n",
       "                        break;\n",
       "                    }\n",
       "                }\n",
       "            }, 500);\n",
       "            "
      ],
      "text/plain": [
       "<IPython.core.display.Javascript object>"
      ]
     },
     "metadata": {},
     "output_type": "display_data"
    }
   ],
   "source": [
    "# Call subset() to prepare a request of a subset of the data\n",
    "ncss = best_ds.subset()"
   ]
  },
  {
   "cell_type": "code",
   "execution_count": 7,
   "metadata": {
    "ExecuteTime": {
     "end_time": "2021-03-04T14:45:53.703582Z",
     "start_time": "2021-03-04T14:45:53.694598Z"
    },
    "scrolled": true
   },
   "outputs": [
    {
     "data": {
      "text/plain": [
       "{'5-Wave_Geopotential_Height_isobaric',\n",
       " 'Absolute_vorticity_isobaric',\n",
       " 'Albedo_surface_Mixed_intervals_Average',\n",
       " 'Apparent_temperature_height_above_ground',\n",
       " 'Best_4_layer_Lifted_Index_surface',\n",
       " 'Categorical_Freezing_Rain_surface',\n",
       " 'Categorical_Freezing_Rain_surface_Mixed_intervals_Average',\n",
       " 'Categorical_Ice_Pellets_surface',\n",
       " 'Categorical_Ice_Pellets_surface_Mixed_intervals_Average',\n",
       " 'Categorical_Rain_surface',\n",
       " 'Categorical_Rain_surface_Mixed_intervals_Average',\n",
       " 'Categorical_Snow_surface',\n",
       " 'Categorical_Snow_surface_Mixed_intervals_Average',\n",
       " 'Cloud_Work_Function_entire_atmosphere_single_layer_Mixed_intervals_Average',\n",
       " 'Cloud_mixing_ratio_hybrid',\n",
       " 'Cloud_mixing_ratio_isobaric',\n",
       " 'Cloud_water_entire_atmosphere_single_layer',\n",
       " 'Composite_reflectivity_entire_atmosphere',\n",
       " 'Convective_Precipitation_Rate_surface_Mixed_intervals_Average',\n",
       " 'Convective_available_potential_energy_pressure_difference_layer',\n",
       " 'Convective_available_potential_energy_surface',\n",
       " 'Convective_inhibition_pressure_difference_layer',\n",
       " 'Convective_inhibition_surface',\n",
       " 'Convective_precipitation_rate_surface',\n",
       " 'Convective_precipitation_surface_Mixed_intervals_Accumulation',\n",
       " 'Dewpoint_temperature_height_above_ground',\n",
       " 'Downward_Long-Wave_Radp_Flux_surface_Mixed_intervals_Average',\n",
       " 'Downward_Short-Wave_Radiation_Flux_surface_Mixed_intervals_Average',\n",
       " 'Field_Capacity_surface',\n",
       " 'Geopotential_height_highest_tropospheric_freezing',\n",
       " 'Geopotential_height_isobaric',\n",
       " 'Geopotential_height_maximum_wind',\n",
       " 'Geopotential_height_potential_vorticity_surface',\n",
       " 'Geopotential_height_surface',\n",
       " 'Geopotential_height_tropopause',\n",
       " 'Geopotential_height_zeroDegC_isotherm',\n",
       " 'Graupel_snow_pellets_hybrid',\n",
       " 'Graupel_snow_pellets_isobaric',\n",
       " 'Ground_Heat_Flux_surface_Mixed_intervals_Average',\n",
       " 'Haines_index_surface',\n",
       " 'ICAO_Standard_Atmosphere_Reference_Height_maximum_wind',\n",
       " 'ICAO_Standard_Atmosphere_Reference_Height_tropopause',\n",
       " 'Ice_cover_surface',\n",
       " 'Ice_growth_rate_altitude_above_msl',\n",
       " 'Ice_water_mixing_ratio_hybrid',\n",
       " 'Ice_water_mixing_ratio_isobaric',\n",
       " 'Icing_Severity_isobaric',\n",
       " 'Land-sea_coverage_nearest_neighbor_land1sea0_surface',\n",
       " 'Land_cover_0__sea_1__land_surface',\n",
       " 'Latent_heat_net_flux_surface_Mixed_intervals_Average',\n",
       " 'MSLP_Eta_model_reduction_msl',\n",
       " 'Maximum_temperature_height_above_ground_Mixed_intervals_Maximum',\n",
       " 'Meridional_Flux_of_Gravity_Wave_Stress_surface_Mixed_intervals_Average',\n",
       " 'Minimum_temperature_height_above_ground_Mixed_intervals_Minimum',\n",
       " 'Momentum_flux_u-component_surface_Mixed_intervals_Average',\n",
       " 'Momentum_flux_v-component_surface_Mixed_intervals_Average',\n",
       " 'Ozone_Mixing_Ratio_isobaric',\n",
       " 'Per_cent_frozen_precipitation_surface',\n",
       " 'Planetary_Boundary_Layer_Height_surface',\n",
       " 'Potential_Evaporation_Rate_surface',\n",
       " 'Potential_temperature_sigma',\n",
       " 'Precipitable_water_entire_atmosphere_single_layer',\n",
       " 'Precipitation_rate_surface',\n",
       " 'Precipitation_rate_surface_Mixed_intervals_Average',\n",
       " 'Pressure_convective_cloud_bottom',\n",
       " 'Pressure_convective_cloud_top',\n",
       " 'Pressure_height_above_ground',\n",
       " 'Pressure_high_cloud_bottom_Mixed_intervals_Average',\n",
       " 'Pressure_high_cloud_top_Mixed_intervals_Average',\n",
       " 'Pressure_low_cloud_bottom_Mixed_intervals_Average',\n",
       " 'Pressure_low_cloud_top_Mixed_intervals_Average',\n",
       " 'Pressure_maximum_wind',\n",
       " 'Pressure_middle_cloud_bottom_Mixed_intervals_Average',\n",
       " 'Pressure_middle_cloud_top_Mixed_intervals_Average',\n",
       " 'Pressure_of_level_from_which_parcel_was_lifted_pressure_difference_layer',\n",
       " 'Pressure_potential_vorticity_surface',\n",
       " 'Pressure_reduced_to_MSL_msl',\n",
       " 'Pressure_surface',\n",
       " 'Pressure_tropopause',\n",
       " 'Rain_mixing_ratio_hybrid',\n",
       " 'Rain_mixing_ratio_isobaric',\n",
       " 'Relative_humidity_entire_atmosphere_single_layer',\n",
       " 'Relative_humidity_height_above_ground',\n",
       " 'Relative_humidity_highest_tropospheric_freezing',\n",
       " 'Relative_humidity_isobaric',\n",
       " 'Relative_humidity_pressure_difference_layer',\n",
       " 'Relative_humidity_sigma',\n",
       " 'Relative_humidity_sigma_layer',\n",
       " 'Relative_humidity_zeroDegC_isotherm',\n",
       " 'Sensible_heat_net_flux_surface_Mixed_intervals_Average',\n",
       " 'Snow_depth_surface',\n",
       " 'Snow_mixing_ratio_hybrid',\n",
       " 'Snow_mixing_ratio_isobaric',\n",
       " 'Soil_temperature_depth_below_surface_layer',\n",
       " 'Specific_humidity_height_above_ground',\n",
       " 'Specific_humidity_pressure_difference_layer',\n",
       " 'Storm_relative_helicity_height_above_ground_layer',\n",
       " 'Sunshine_Duration_surface',\n",
       " 'Surface_Lifted_Index_surface',\n",
       " 'Temperature_altitude_above_msl',\n",
       " 'Temperature_height_above_ground',\n",
       " 'Temperature_high_cloud_top_Mixed_intervals_Average',\n",
       " 'Temperature_isobaric',\n",
       " 'Temperature_low_cloud_top_Mixed_intervals_Average',\n",
       " 'Temperature_maximum_wind',\n",
       " 'Temperature_middle_cloud_top_Mixed_intervals_Average',\n",
       " 'Temperature_potential_vorticity_surface',\n",
       " 'Temperature_pressure_difference_layer',\n",
       " 'Temperature_sigma',\n",
       " 'Temperature_surface',\n",
       " 'Temperature_tropopause',\n",
       " 'Total_cloud_cover_boundary_layer_cloud_Mixed_intervals_Average',\n",
       " 'Total_cloud_cover_convective_cloud',\n",
       " 'Total_cloud_cover_entire_atmosphere_Mixed_intervals_Average',\n",
       " 'Total_cloud_cover_high_cloud_Mixed_intervals_Average',\n",
       " 'Total_cloud_cover_isobaric',\n",
       " 'Total_cloud_cover_low_cloud_Mixed_intervals_Average',\n",
       " 'Total_cloud_cover_middle_cloud_Mixed_intervals_Average',\n",
       " 'Total_ozone_entire_atmosphere_single_layer',\n",
       " 'Total_precipitation_surface_Mixed_intervals_Accumulation',\n",
       " 'U-Component_Storm_Motion_height_above_ground_layer',\n",
       " 'Upward_Long-Wave_Radp_Flux_atmosphere_top_Mixed_intervals_Average',\n",
       " 'Upward_Long-Wave_Radp_Flux_surface_Mixed_intervals_Average',\n",
       " 'Upward_Short-Wave_Radiation_Flux_atmosphere_top_Mixed_intervals_Average',\n",
       " 'Upward_Short-Wave_Radiation_Flux_surface_Mixed_intervals_Average',\n",
       " 'V-Component_Storm_Motion_height_above_ground_layer',\n",
       " 'Ventilation_Rate_planetary_boundary',\n",
       " 'Vertical_Speed_Shear_potential_vorticity_surface',\n",
       " 'Vertical_Speed_Shear_tropopause',\n",
       " 'Vertical_velocity_geometric_isobaric',\n",
       " 'Vertical_velocity_pressure_isobaric',\n",
       " 'Vertical_velocity_pressure_sigma',\n",
       " 'Visibility_surface',\n",
       " 'Volumetric_Soil_Moisture_Content_depth_below_surface_layer',\n",
       " 'Water_equivalent_of_accumulated_snow_depth_surface',\n",
       " 'Water_runoff_surface_Mixed_intervals_Accumulation',\n",
       " 'Wilting_Point_surface',\n",
       " 'Wind_speed_gust_surface',\n",
       " 'Zonal_Flux_of_Gravity_Wave_Stress_surface_Mixed_intervals_Average',\n",
       " 'u-component_of_wind_altitude_above_msl',\n",
       " 'u-component_of_wind_height_above_ground',\n",
       " 'u-component_of_wind_isobaric',\n",
       " 'u-component_of_wind_maximum_wind',\n",
       " 'u-component_of_wind_planetary_boundary',\n",
       " 'u-component_of_wind_potential_vorticity_surface',\n",
       " 'u-component_of_wind_pressure_difference_layer',\n",
       " 'u-component_of_wind_sigma',\n",
       " 'u-component_of_wind_tropopause',\n",
       " 'v-component_of_wind_altitude_above_msl',\n",
       " 'v-component_of_wind_height_above_ground',\n",
       " 'v-component_of_wind_isobaric',\n",
       " 'v-component_of_wind_maximum_wind',\n",
       " 'v-component_of_wind_planetary_boundary',\n",
       " 'v-component_of_wind_potential_vorticity_surface',\n",
       " 'v-component_of_wind_pressure_difference_layer',\n",
       " 'v-component_of_wind_sigma',\n",
       " 'v-component_of_wind_tropopause'}"
      ]
     },
     "execution_count": 7,
     "metadata": {},
     "output_type": "execute_result"
    },
    {
     "data": {
      "application/javascript": [
       "\n",
       "            setTimeout(function() {\n",
       "                var nbb_cell_id = 7;\n",
       "                var nbb_unformatted_code = \"# Look at the dataset object variables to see what data are available from the dataset\\nncss.variables\";\n",
       "                var nbb_formatted_code = \"# Look at the dataset object variables to see what data are available from the dataset\\nncss.variables\";\n",
       "                var nbb_cells = Jupyter.notebook.get_cells();\n",
       "                for (var i = 0; i < nbb_cells.length; ++i) {\n",
       "                    if (nbb_cells[i].input_prompt_number == nbb_cell_id) {\n",
       "                        if (nbb_cells[i].get_text() == nbb_unformatted_code) {\n",
       "                             nbb_cells[i].set_text(nbb_formatted_code);\n",
       "                        }\n",
       "                        break;\n",
       "                    }\n",
       "                }\n",
       "            }, 500);\n",
       "            "
      ],
      "text/plain": [
       "<IPython.core.display.Javascript object>"
      ]
     },
     "metadata": {},
     "output_type": "display_data"
    }
   ],
   "source": [
    "# Look at the dataset object variables to see what data are available from the dataset\n",
    "ncss.variables"
   ]
  },
  {
   "cell_type": "markdown",
   "metadata": {
    "ExecuteTime": {
     "end_time": "2021-02-26T11:56:50.596126Z",
     "start_time": "2021-02-26T11:56:50.583089Z"
    }
   },
   "source": [
    "### Define query for full extend\n",
    "Construct a query asking for data corresponding to a latitude and longitude box where \n",
    "\n",
    "- 90 lat is the northern extent \n",
    "- -90 lat is the southern extent \n",
    "- 0 long is the western extent \n",
    "- 360 is the eastern extent   \n",
    "\n",
    "(Note: longitude values are the longitude distance from the prime meridian.)\n",
    "\n",
    "Request the data for the current time.   "
   ]
  },
  {
   "cell_type": "code",
   "execution_count": 8,
   "metadata": {
    "ExecuteTime": {
     "end_time": "2021-03-04T14:45:53.723828Z",
     "start_time": "2021-03-04T14:45:53.706602Z"
    }
   },
   "outputs": [
    {
     "data": {
      "application/javascript": [
       "\n",
       "            setTimeout(function() {\n",
       "                var nbb_cell_id = 8;\n",
       "                var nbb_unformatted_code = \"from datetime import datetime\";\n",
       "                var nbb_formatted_code = \"from datetime import datetime\";\n",
       "                var nbb_cells = Jupyter.notebook.get_cells();\n",
       "                for (var i = 0; i < nbb_cells.length; ++i) {\n",
       "                    if (nbb_cells[i].input_prompt_number == nbb_cell_id) {\n",
       "                        if (nbb_cells[i].get_text() == nbb_unformatted_code) {\n",
       "                             nbb_cells[i].set_text(nbb_formatted_code);\n",
       "                        }\n",
       "                        break;\n",
       "                    }\n",
       "                }\n",
       "            }, 500);\n",
       "            "
      ],
      "text/plain": [
       "<IPython.core.display.Javascript object>"
      ]
     },
     "metadata": {},
     "output_type": "display_data"
    }
   ],
   "source": [
    "from datetime import datetime"
   ]
  },
  {
   "cell_type": "code",
   "execution_count": 9,
   "metadata": {
    "ExecuteTime": {
     "end_time": "2021-03-04T14:45:53.739896Z",
     "start_time": "2021-03-04T14:45:53.726333Z"
    }
   },
   "outputs": [
    {
     "data": {
      "application/javascript": [
       "\n",
       "            setTimeout(function() {\n",
       "                var nbb_cell_id = 9;\n",
       "                var nbb_unformatted_code = \"# Use the ncss object to create a new query object, which facilitates asking\\n# for data from the server.\\nquery = ncss.query()\";\n",
       "                var nbb_formatted_code = \"# Use the ncss object to create a new query object, which facilitates asking\\n# for data from the server.\\nquery = ncss.query()\";\n",
       "                var nbb_cells = Jupyter.notebook.get_cells();\n",
       "                for (var i = 0; i < nbb_cells.length; ++i) {\n",
       "                    if (nbb_cells[i].input_prompt_number == nbb_cell_id) {\n",
       "                        if (nbb_cells[i].get_text() == nbb_unformatted_code) {\n",
       "                             nbb_cells[i].set_text(nbb_formatted_code);\n",
       "                        }\n",
       "                        break;\n",
       "                    }\n",
       "                }\n",
       "            }, 500);\n",
       "            "
      ],
      "text/plain": [
       "<IPython.core.display.Javascript object>"
      ]
     },
     "metadata": {},
     "output_type": "display_data"
    }
   ],
   "source": [
    "# Use the ncss object to create a new query object, which facilitates asking\n",
    "# for data from the server.\n",
    "query = ncss.query()"
   ]
  },
  {
   "cell_type": "markdown",
   "metadata": {},
   "source": [
    "### Define area"
   ]
  },
  {
   "cell_type": "code",
   "execution_count": 40,
   "metadata": {
    "ExecuteTime": {
     "end_time": "2021-03-04T15:14:46.399074Z",
     "start_time": "2021-03-04T15:14:46.389333Z"
    }
   },
   "outputs": [
    {
     "data": {
      "application/javascript": [
       "\n",
       "            setTimeout(function() {\n",
       "                var nbb_cell_id = 40;\n",
       "                var nbb_unformatted_code = \"# Full extent\\nfe_West = 0\\nfe_East = 360\\nfe_South = -90\\nfe_North = 90\\n\\n# Single grid=pixel\\n# sg_West = 20.49\\n# sg_East = 20.49 + 0.125\\n# sg_South = -49.24 - 0.125\\n# sg_North = -49.24\\n\\nsg_West = -66.09016 + 360\\nsg_East = -66.09016 + 360 + 0.125\\nsg_South = 18.44777 \\nsg_North = 18.44777 + 0.125\\n\\n# sa_West = 14.8\\n# sa_East = 156.4\\n# sa_South = -55.6\\n# sa_North = 47\";\n",
       "                var nbb_formatted_code = \"# Full extent\\nfe_West = 0\\nfe_East = 360\\nfe_South = -90\\nfe_North = 90\\n\\n# Single grid=pixel\\n# sg_West = 20.49\\n# sg_East = 20.49 + 0.125\\n# sg_South = -49.24 - 0.125\\n# sg_North = -49.24\\n\\nsg_West = -66.09016 + 360\\nsg_East = -66.09016 + 360 + 0.125\\nsg_South = 18.44777\\nsg_North = 18.44777 + 0.125\\n\\n# sa_West = 14.8\\n# sa_East = 156.4\\n# sa_South = -55.6\\n# sa_North = 47\";\n",
       "                var nbb_cells = Jupyter.notebook.get_cells();\n",
       "                for (var i = 0; i < nbb_cells.length; ++i) {\n",
       "                    if (nbb_cells[i].input_prompt_number == nbb_cell_id) {\n",
       "                        if (nbb_cells[i].get_text() == nbb_unformatted_code) {\n",
       "                             nbb_cells[i].set_text(nbb_formatted_code);\n",
       "                        }\n",
       "                        break;\n",
       "                    }\n",
       "                }\n",
       "            }, 500);\n",
       "            "
      ],
      "text/plain": [
       "<IPython.core.display.Javascript object>"
      ]
     },
     "metadata": {},
     "output_type": "display_data"
    }
   ],
   "source": [
    "# Full extent\n",
    "fe_West = 0\n",
    "fe_East = 360\n",
    "fe_South = -90\n",
    "fe_North = 90\n",
    "\n",
    "# Single grid=pixel\n",
    "# sg_West = 20.49\n",
    "# sg_East = 20.49 + 0.125\n",
    "# sg_South = -49.24 - 0.125\n",
    "# sg_North = -49.24\n",
    "\n",
    "sg_West = -66.09016 + 360\n",
    "sg_East = -66.09016 + 360 + 0.125\n",
    "sg_South = 18.44777\n",
    "sg_North = 18.44777 + 0.125\n",
    "\n",
    "# sa_West = 14.8\n",
    "# sa_East = 156.4\n",
    "# sa_South = -55.6\n",
    "# sa_North = 47"
   ]
  },
  {
   "cell_type": "code",
   "execution_count": 41,
   "metadata": {
    "ExecuteTime": {
     "end_time": "2021-03-04T15:14:50.571340Z",
     "start_time": "2021-03-04T15:14:50.563388Z"
    }
   },
   "outputs": [
    {
     "data": {
      "text/plain": [
       "var=Wind_speed_gust_surface&time=2021-03-06T00%3A00%3A00&west=293.90984000000003&east=294.03484000000003&south=18.44777&north=18.57277&accept=netcdf4"
      ]
     },
     "execution_count": 41,
     "metadata": {},
     "output_type": "execute_result"
    },
    {
     "data": {
      "application/javascript": [
       "\n",
       "            setTimeout(function() {\n",
       "                var nbb_cell_id = 41;\n",
       "                var nbb_unformatted_code = \"# Query a certain area\\nquery.lonlat_box(west=sg_West, east=sg_East, south=sg_South, north=sg_North)\\n\\n\\n# Query a certain area and take the datetime closest to the actual datetime\\n# https://unidata.github.io/siphon/latest/api/http_util.html#siphon.http_util.DataQuery.lonlat_box\\n# query.lonlat_box(south=fe_South,\\n#                  north=fe_North,\\n#                  west=fe_West,\\n#                  east=fe_East).time(\\n#     datetime.utcnow()\\n# )\";\n",
       "                var nbb_formatted_code = \"# Query a certain area\\nquery.lonlat_box(west=sg_West, east=sg_East, south=sg_South, north=sg_North)\\n\\n\\n# Query a certain area and take the datetime closest to the actual datetime\\n# https://unidata.github.io/siphon/latest/api/http_util.html#siphon.http_util.DataQuery.lonlat_box\\n# query.lonlat_box(south=fe_South,\\n#                  north=fe_North,\\n#                  west=fe_West,\\n#                  east=fe_East).time(\\n#     datetime.utcnow()\\n# )\";\n",
       "                var nbb_cells = Jupyter.notebook.get_cells();\n",
       "                for (var i = 0; i < nbb_cells.length; ++i) {\n",
       "                    if (nbb_cells[i].input_prompt_number == nbb_cell_id) {\n",
       "                        if (nbb_cells[i].get_text() == nbb_unformatted_code) {\n",
       "                             nbb_cells[i].set_text(nbb_formatted_code);\n",
       "                        }\n",
       "                        break;\n",
       "                    }\n",
       "                }\n",
       "            }, 500);\n",
       "            "
      ],
      "text/plain": [
       "<IPython.core.display.Javascript object>"
      ]
     },
     "metadata": {},
     "output_type": "display_data"
    }
   ],
   "source": [
    "# Query a certain area\n",
    "query.lonlat_box(west=sg_West, east=sg_East, south=sg_South, north=sg_North)\n",
    "\n",
    "\n",
    "# Query a certain area and take the datetime closest to the actual datetime\n",
    "# https://unidata.github.io/siphon/latest/api/http_util.html#siphon.http_util.DataQuery.lonlat_box\n",
    "# query.lonlat_box(south=fe_South,\n",
    "#                  north=fe_North,\n",
    "#                  west=fe_West,\n",
    "#                  east=fe_East).time(\n",
    "#     datetime.utcnow()\n",
    "# )"
   ]
  },
  {
   "cell_type": "markdown",
   "metadata": {},
   "source": [
    "### Define the time or time range for the query\n",
    "If you don't set a bounding box, the full extent will be queried"
   ]
  },
  {
   "cell_type": "code",
   "execution_count": 12,
   "metadata": {
    "ExecuteTime": {
     "end_time": "2021-03-04T14:45:53.768317Z",
     "start_time": "2021-03-04T14:45:53.764570Z"
    }
   },
   "outputs": [
    {
     "data": {
      "application/javascript": [
       "\n",
       "            setTimeout(function() {\n",
       "                var nbb_cell_id = 12;\n",
       "                var nbb_unformatted_code = \"# Query a certain time range\\n# https://unidata.github.io/siphon/latest/api/http_util.html#siphon.http_util.DataQuery.time_range\\n# query.time_range(start=datetime(2021, 2, 28), end=datetime(2021, 3, 6))\";\n",
       "                var nbb_formatted_code = \"# Query a certain time range\\n# https://unidata.github.io/siphon/latest/api/http_util.html#siphon.http_util.DataQuery.time_range\\n# query.time_range(start=datetime(2021, 2, 28), end=datetime(2021, 3, 6))\";\n",
       "                var nbb_cells = Jupyter.notebook.get_cells();\n",
       "                for (var i = 0; i < nbb_cells.length; ++i) {\n",
       "                    if (nbb_cells[i].input_prompt_number == nbb_cell_id) {\n",
       "                        if (nbb_cells[i].get_text() == nbb_unformatted_code) {\n",
       "                             nbb_cells[i].set_text(nbb_formatted_code);\n",
       "                        }\n",
       "                        break;\n",
       "                    }\n",
       "                }\n",
       "            }, 500);\n",
       "            "
      ],
      "text/plain": [
       "<IPython.core.display.Javascript object>"
      ]
     },
     "metadata": {},
     "output_type": "display_data"
    }
   ],
   "source": [
    "# Query a certain time range\n",
    "# https://unidata.github.io/siphon/latest/api/http_util.html#siphon.http_util.DataQuery.time_range\n",
    "# query.time_range(start=datetime(2021, 2, 28), end=datetime(2021, 3, 6))"
   ]
  },
  {
   "cell_type": "code",
   "execution_count": 27,
   "metadata": {
    "ExecuteTime": {
     "end_time": "2021-03-04T14:47:36.000419Z",
     "start_time": "2021-03-04T14:47:35.981792Z"
    }
   },
   "outputs": [
    {
     "data": {
      "text/plain": [
       "var=Wind_speed_gust_surface&time=2021-03-06T00%3A00%3A00&west=20.49&east=20.615&south=-49.365&north=-49.24&accept=netcdf4"
      ]
     },
     "execution_count": 27,
     "metadata": {},
     "output_type": "execute_result"
    },
    {
     "data": {
      "application/javascript": [
       "\n",
       "            setTimeout(function() {\n",
       "                var nbb_cell_id = 27;\n",
       "                var nbb_unformatted_code = \"# Query a certain date\\n# https://unidata.github.io/siphon/latest/api/http_util.html#siphon.http_util.DataQuery.time\\nquery.time(datetime(2021, 3, 6))\";\n",
       "                var nbb_formatted_code = \"# Query a certain date\\n# https://unidata.github.io/siphon/latest/api/http_util.html#siphon.http_util.DataQuery.time\\nquery.time(datetime(2021, 3, 6))\";\n",
       "                var nbb_cells = Jupyter.notebook.get_cells();\n",
       "                for (var i = 0; i < nbb_cells.length; ++i) {\n",
       "                    if (nbb_cells[i].input_prompt_number == nbb_cell_id) {\n",
       "                        if (nbb_cells[i].get_text() == nbb_unformatted_code) {\n",
       "                             nbb_cells[i].set_text(nbb_formatted_code);\n",
       "                        }\n",
       "                        break;\n",
       "                    }\n",
       "                }\n",
       "            }, 500);\n",
       "            "
      ],
      "text/plain": [
       "<IPython.core.display.Javascript object>"
      ]
     },
     "metadata": {},
     "output_type": "display_data"
    }
   ],
   "source": [
    "# Query a certain date\n",
    "# https://unidata.github.io/siphon/latest/api/http_util.html#siphon.http_util.DataQuery.time\n",
    "query.time(datetime(2021, 3, 6))"
   ]
  },
  {
   "cell_type": "code",
   "execution_count": 14,
   "metadata": {
    "ExecuteTime": {
     "end_time": "2021-03-04T14:45:53.850051Z",
     "start_time": "2021-03-04T14:45:53.825956Z"
    }
   },
   "outputs": [
    {
     "data": {
      "text/plain": [
       "time=2021-03-06T00%3A00%3A00&west=20.49&east=20.61&south=-49.36&north=-49.24&accept=netcdf4"
      ]
     },
     "execution_count": 14,
     "metadata": {},
     "output_type": "execute_result"
    },
    {
     "data": {
      "application/javascript": [
       "\n",
       "            setTimeout(function() {\n",
       "                var nbb_cell_id = 14;\n",
       "                var nbb_unformatted_code = \"# Set data format to be accepted, here netcdf4\\nquery.accept(\\\"netcdf4\\\")  # csv\";\n",
       "                var nbb_formatted_code = \"# Set data format to be accepted, here netcdf4\\nquery.accept(\\\"netcdf4\\\")  # csv\";\n",
       "                var nbb_cells = Jupyter.notebook.get_cells();\n",
       "                for (var i = 0; i < nbb_cells.length; ++i) {\n",
       "                    if (nbb_cells[i].input_prompt_number == nbb_cell_id) {\n",
       "                        if (nbb_cells[i].get_text() == nbb_unformatted_code) {\n",
       "                             nbb_cells[i].set_text(nbb_formatted_code);\n",
       "                        }\n",
       "                        break;\n",
       "                    }\n",
       "                }\n",
       "            }, 500);\n",
       "            "
      ],
      "text/plain": [
       "<IPython.core.display.Javascript object>"
      ]
     },
     "metadata": {},
     "output_type": "display_data"
    }
   ],
   "source": [
    "# Set data format to be accepted, here netcdf4\n",
    "query.accept(\"netcdf4\")  # csv"
   ]
  },
  {
   "cell_type": "code",
   "execution_count": 15,
   "metadata": {
    "ExecuteTime": {
     "end_time": "2021-03-04T14:45:53.862608Z",
     "start_time": "2021-03-04T14:45:53.851877Z"
    }
   },
   "outputs": [
    {
     "data": {
      "text/plain": [
       "var=Wind_speed_gust_surface&time=2021-03-06T00%3A00%3A00&west=20.49&east=20.61&south=-49.36&north=-49.24&accept=netcdf4"
      ]
     },
     "execution_count": 15,
     "metadata": {},
     "output_type": "execute_result"
    },
    {
     "data": {
      "application/javascript": [
       "\n",
       "            setTimeout(function() {\n",
       "                var nbb_cell_id = 15;\n",
       "                var nbb_unformatted_code = \"# Set target variable\\nquery.variables(\\n    \\\"Wind_speed_gust_surface\\\",\\n    #    \\\"Geopotential_height_maximum_wind\\\",\\n    #    \\\"Temperature_maximum_wind\\\",\\n)\";\n",
       "                var nbb_formatted_code = \"# Set target variable\\nquery.variables(\\n    \\\"Wind_speed_gust_surface\\\",\\n    #    \\\"Geopotential_height_maximum_wind\\\",\\n    #    \\\"Temperature_maximum_wind\\\",\\n)\";\n",
       "                var nbb_cells = Jupyter.notebook.get_cells();\n",
       "                for (var i = 0; i < nbb_cells.length; ++i) {\n",
       "                    if (nbb_cells[i].input_prompt_number == nbb_cell_id) {\n",
       "                        if (nbb_cells[i].get_text() == nbb_unformatted_code) {\n",
       "                             nbb_cells[i].set_text(nbb_formatted_code);\n",
       "                        }\n",
       "                        break;\n",
       "                    }\n",
       "                }\n",
       "            }, 500);\n",
       "            "
      ],
      "text/plain": [
       "<IPython.core.display.Javascript object>"
      ]
     },
     "metadata": {},
     "output_type": "display_data"
    }
   ],
   "source": [
    "# Set target variable\n",
    "query.variables(\n",
    "    \"Wind_speed_gust_surface\",\n",
    "    #    \"Geopotential_height_maximum_wind\",\n",
    "    #    \"Temperature_maximum_wind\",\n",
    ")"
   ]
  },
  {
   "cell_type": "markdown",
   "metadata": {},
   "source": [
    "### Query the data"
   ]
  },
  {
   "cell_type": "code",
   "execution_count": 16,
   "metadata": {
    "ExecuteTime": {
     "end_time": "2021-03-04T14:45:54.138528Z",
     "start_time": "2021-03-04T14:45:53.864818Z"
    }
   },
   "outputs": [
    {
     "data": {
      "application/javascript": [
       "\n",
       "            setTimeout(function() {\n",
       "                var nbb_cell_id = 16;\n",
       "                var nbb_unformatted_code = \"from xarray.backends import NetCDF4DataStore\\nimport xarray as xr\";\n",
       "                var nbb_formatted_code = \"from xarray.backends import NetCDF4DataStore\\nimport xarray as xr\";\n",
       "                var nbb_cells = Jupyter.notebook.get_cells();\n",
       "                for (var i = 0; i < nbb_cells.length; ++i) {\n",
       "                    if (nbb_cells[i].input_prompt_number == nbb_cell_id) {\n",
       "                        if (nbb_cells[i].get_text() == nbb_unformatted_code) {\n",
       "                             nbb_cells[i].set_text(nbb_formatted_code);\n",
       "                        }\n",
       "                        break;\n",
       "                    }\n",
       "                }\n",
       "            }, 500);\n",
       "            "
      ],
      "text/plain": [
       "<IPython.core.display.Javascript object>"
      ]
     },
     "metadata": {},
     "output_type": "display_data"
    }
   ],
   "source": [
    "from xarray.backends import NetCDF4DataStore\n",
    "import xarray as xr"
   ]
  },
  {
   "cell_type": "code",
   "execution_count": 42,
   "metadata": {
    "ExecuteTime": {
     "end_time": "2021-03-04T15:14:56.972642Z",
     "start_time": "2021-03-04T15:14:55.884633Z"
    }
   },
   "outputs": [
    {
     "data": {
      "application/javascript": [
       "\n",
       "            setTimeout(function() {\n",
       "                var nbb_cell_id = 42;\n",
       "                var nbb_unformatted_code = \"# Send request and open the received virtual data as xarray dataset\\ndata = ncss.get_data(query)\\ndata = xr.open_dataset(NetCDF4DataStore(data))\\ndata\\n\\n# Download the data as netCDF\\nlala = data.to_netcdf(\\\"52N_days_Wind1.nc\\\")\";\n",
       "                var nbb_formatted_code = \"# Send request and open the received virtual data as xarray dataset\\ndata = ncss.get_data(query)\\ndata = xr.open_dataset(NetCDF4DataStore(data))\\ndata\\n\\n# Download the data as netCDF\\nlala = data.to_netcdf(\\\"52N_days_Wind1.nc\\\")\";\n",
       "                var nbb_cells = Jupyter.notebook.get_cells();\n",
       "                for (var i = 0; i < nbb_cells.length; ++i) {\n",
       "                    if (nbb_cells[i].input_prompt_number == nbb_cell_id) {\n",
       "                        if (nbb_cells[i].get_text() == nbb_unformatted_code) {\n",
       "                             nbb_cells[i].set_text(nbb_formatted_code);\n",
       "                        }\n",
       "                        break;\n",
       "                    }\n",
       "                }\n",
       "            }, 500);\n",
       "            "
      ],
      "text/plain": [
       "<IPython.core.display.Javascript object>"
      ]
     },
     "metadata": {},
     "output_type": "display_data"
    }
   ],
   "source": [
    "# Send request and open the received virtual data as xarray dataset\n",
    "data = ncss.get_data(query)\n",
    "data = xr.open_dataset(NetCDF4DataStore(data))\n",
    "data\n",
    "\n",
    "# Download the data as netCDF\n",
    "lala = data.to_netcdf(\"52N_days_Wind1.nc\")"
   ]
  },
  {
   "cell_type": "code",
   "execution_count": 43,
   "metadata": {
    "ExecuteTime": {
     "end_time": "2021-03-04T15:15:00.905791Z",
     "start_time": "2021-03-04T15:15:00.885946Z"
    }
   },
   "outputs": [
    {
     "data": {
      "text/html": [
       "<div><svg style=\"position: absolute; width: 0; height: 0; overflow: hidden\">\n",
       "<defs>\n",
       "<symbol id=\"icon-database\" viewBox=\"0 0 32 32\">\n",
       "<path d=\"M16 0c-8.837 0-16 2.239-16 5v4c0 2.761 7.163 5 16 5s16-2.239 16-5v-4c0-2.761-7.163-5-16-5z\"></path>\n",
       "<path d=\"M16 17c-8.837 0-16-2.239-16-5v6c0 2.761 7.163 5 16 5s16-2.239 16-5v-6c0 2.761-7.163 5-16 5z\"></path>\n",
       "<path d=\"M16 26c-8.837 0-16-2.239-16-5v6c0 2.761 7.163 5 16 5s16-2.239 16-5v-6c0 2.761-7.163 5-16 5z\"></path>\n",
       "</symbol>\n",
       "<symbol id=\"icon-file-text2\" viewBox=\"0 0 32 32\">\n",
       "<path d=\"M28.681 7.159c-0.694-0.947-1.662-2.053-2.724-3.116s-2.169-2.030-3.116-2.724c-1.612-1.182-2.393-1.319-2.841-1.319h-15.5c-1.378 0-2.5 1.121-2.5 2.5v27c0 1.378 1.122 2.5 2.5 2.5h23c1.378 0 2.5-1.122 2.5-2.5v-19.5c0-0.448-0.137-1.23-1.319-2.841zM24.543 5.457c0.959 0.959 1.712 1.825 2.268 2.543h-4.811v-4.811c0.718 0.556 1.584 1.309 2.543 2.268zM28 29.5c0 0.271-0.229 0.5-0.5 0.5h-23c-0.271 0-0.5-0.229-0.5-0.5v-27c0-0.271 0.229-0.5 0.5-0.5 0 0 15.499-0 15.5 0v7c0 0.552 0.448 1 1 1h7v19.5z\"></path>\n",
       "<path d=\"M23 26h-14c-0.552 0-1-0.448-1-1s0.448-1 1-1h14c0.552 0 1 0.448 1 1s-0.448 1-1 1z\"></path>\n",
       "<path d=\"M23 22h-14c-0.552 0-1-0.448-1-1s0.448-1 1-1h14c0.552 0 1 0.448 1 1s-0.448 1-1 1z\"></path>\n",
       "<path d=\"M23 18h-14c-0.552 0-1-0.448-1-1s0.448-1 1-1h14c0.552 0 1 0.448 1 1s-0.448 1-1 1z\"></path>\n",
       "</symbol>\n",
       "</defs>\n",
       "</svg>\n",
       "<style>/* CSS stylesheet for displaying xarray objects in jupyterlab.\n",
       " *\n",
       " */\n",
       "\n",
       ":root {\n",
       "  --xr-font-color0: var(--jp-content-font-color0, rgba(0, 0, 0, 1));\n",
       "  --xr-font-color2: var(--jp-content-font-color2, rgba(0, 0, 0, 0.54));\n",
       "  --xr-font-color3: var(--jp-content-font-color3, rgba(0, 0, 0, 0.38));\n",
       "  --xr-border-color: var(--jp-border-color2, #e0e0e0);\n",
       "  --xr-disabled-color: var(--jp-layout-color3, #bdbdbd);\n",
       "  --xr-background-color: var(--jp-layout-color0, white);\n",
       "  --xr-background-color-row-even: var(--jp-layout-color1, white);\n",
       "  --xr-background-color-row-odd: var(--jp-layout-color2, #eeeeee);\n",
       "}\n",
       "\n",
       "html[theme=dark],\n",
       "body.vscode-dark {\n",
       "  --xr-font-color0: rgba(255, 255, 255, 1);\n",
       "  --xr-font-color2: rgba(255, 255, 255, 0.54);\n",
       "  --xr-font-color3: rgba(255, 255, 255, 0.38);\n",
       "  --xr-border-color: #1F1F1F;\n",
       "  --xr-disabled-color: #515151;\n",
       "  --xr-background-color: #111111;\n",
       "  --xr-background-color-row-even: #111111;\n",
       "  --xr-background-color-row-odd: #313131;\n",
       "}\n",
       "\n",
       ".xr-wrap {\n",
       "  display: block;\n",
       "  min-width: 300px;\n",
       "  max-width: 700px;\n",
       "}\n",
       "\n",
       ".xr-text-repr-fallback {\n",
       "  /* fallback to plain text repr when CSS is not injected (untrusted notebook) */\n",
       "  display: none;\n",
       "}\n",
       "\n",
       ".xr-header {\n",
       "  padding-top: 6px;\n",
       "  padding-bottom: 6px;\n",
       "  margin-bottom: 4px;\n",
       "  border-bottom: solid 1px var(--xr-border-color);\n",
       "}\n",
       "\n",
       ".xr-header > div,\n",
       ".xr-header > ul {\n",
       "  display: inline;\n",
       "  margin-top: 0;\n",
       "  margin-bottom: 0;\n",
       "}\n",
       "\n",
       ".xr-obj-type,\n",
       ".xr-array-name {\n",
       "  margin-left: 2px;\n",
       "  margin-right: 10px;\n",
       "}\n",
       "\n",
       ".xr-obj-type {\n",
       "  color: var(--xr-font-color2);\n",
       "}\n",
       "\n",
       ".xr-sections {\n",
       "  padding-left: 0 !important;\n",
       "  display: grid;\n",
       "  grid-template-columns: 150px auto auto 1fr 20px 20px;\n",
       "}\n",
       "\n",
       ".xr-section-item {\n",
       "  display: contents;\n",
       "}\n",
       "\n",
       ".xr-section-item input {\n",
       "  display: none;\n",
       "}\n",
       "\n",
       ".xr-section-item input + label {\n",
       "  color: var(--xr-disabled-color);\n",
       "}\n",
       "\n",
       ".xr-section-item input:enabled + label {\n",
       "  cursor: pointer;\n",
       "  color: var(--xr-font-color2);\n",
       "}\n",
       "\n",
       ".xr-section-item input:enabled + label:hover {\n",
       "  color: var(--xr-font-color0);\n",
       "}\n",
       "\n",
       ".xr-section-summary {\n",
       "  grid-column: 1;\n",
       "  color: var(--xr-font-color2);\n",
       "  font-weight: 500;\n",
       "}\n",
       "\n",
       ".xr-section-summary > span {\n",
       "  display: inline-block;\n",
       "  padding-left: 0.5em;\n",
       "}\n",
       "\n",
       ".xr-section-summary-in:disabled + label {\n",
       "  color: var(--xr-font-color2);\n",
       "}\n",
       "\n",
       ".xr-section-summary-in + label:before {\n",
       "  display: inline-block;\n",
       "  content: '►';\n",
       "  font-size: 11px;\n",
       "  width: 15px;\n",
       "  text-align: center;\n",
       "}\n",
       "\n",
       ".xr-section-summary-in:disabled + label:before {\n",
       "  color: var(--xr-disabled-color);\n",
       "}\n",
       "\n",
       ".xr-section-summary-in:checked + label:before {\n",
       "  content: '▼';\n",
       "}\n",
       "\n",
       ".xr-section-summary-in:checked + label > span {\n",
       "  display: none;\n",
       "}\n",
       "\n",
       ".xr-section-summary,\n",
       ".xr-section-inline-details {\n",
       "  padding-top: 4px;\n",
       "  padding-bottom: 4px;\n",
       "}\n",
       "\n",
       ".xr-section-inline-details {\n",
       "  grid-column: 2 / -1;\n",
       "}\n",
       "\n",
       ".xr-section-details {\n",
       "  display: none;\n",
       "  grid-column: 1 / -1;\n",
       "  margin-bottom: 5px;\n",
       "}\n",
       "\n",
       ".xr-section-summary-in:checked ~ .xr-section-details {\n",
       "  display: contents;\n",
       "}\n",
       "\n",
       ".xr-array-wrap {\n",
       "  grid-column: 1 / -1;\n",
       "  display: grid;\n",
       "  grid-template-columns: 20px auto;\n",
       "}\n",
       "\n",
       ".xr-array-wrap > label {\n",
       "  grid-column: 1;\n",
       "  vertical-align: top;\n",
       "}\n",
       "\n",
       ".xr-preview {\n",
       "  color: var(--xr-font-color3);\n",
       "}\n",
       "\n",
       ".xr-array-preview,\n",
       ".xr-array-data {\n",
       "  padding: 0 5px !important;\n",
       "  grid-column: 2;\n",
       "}\n",
       "\n",
       ".xr-array-data,\n",
       ".xr-array-in:checked ~ .xr-array-preview {\n",
       "  display: none;\n",
       "}\n",
       "\n",
       ".xr-array-in:checked ~ .xr-array-data,\n",
       ".xr-array-preview {\n",
       "  display: inline-block;\n",
       "}\n",
       "\n",
       ".xr-dim-list {\n",
       "  display: inline-block !important;\n",
       "  list-style: none;\n",
       "  padding: 0 !important;\n",
       "  margin: 0;\n",
       "}\n",
       "\n",
       ".xr-dim-list li {\n",
       "  display: inline-block;\n",
       "  padding: 0;\n",
       "  margin: 0;\n",
       "}\n",
       "\n",
       ".xr-dim-list:before {\n",
       "  content: '(';\n",
       "}\n",
       "\n",
       ".xr-dim-list:after {\n",
       "  content: ')';\n",
       "}\n",
       "\n",
       ".xr-dim-list li:not(:last-child):after {\n",
       "  content: ',';\n",
       "  padding-right: 5px;\n",
       "}\n",
       "\n",
       ".xr-has-index {\n",
       "  font-weight: bold;\n",
       "}\n",
       "\n",
       ".xr-var-list,\n",
       ".xr-var-item {\n",
       "  display: contents;\n",
       "}\n",
       "\n",
       ".xr-var-item > div,\n",
       ".xr-var-item label,\n",
       ".xr-var-item > .xr-var-name span {\n",
       "  background-color: var(--xr-background-color-row-even);\n",
       "  margin-bottom: 0;\n",
       "}\n",
       "\n",
       ".xr-var-item > .xr-var-name:hover span {\n",
       "  padding-right: 5px;\n",
       "}\n",
       "\n",
       ".xr-var-list > li:nth-child(odd) > div,\n",
       ".xr-var-list > li:nth-child(odd) > label,\n",
       ".xr-var-list > li:nth-child(odd) > .xr-var-name span {\n",
       "  background-color: var(--xr-background-color-row-odd);\n",
       "}\n",
       "\n",
       ".xr-var-name {\n",
       "  grid-column: 1;\n",
       "}\n",
       "\n",
       ".xr-var-dims {\n",
       "  grid-column: 2;\n",
       "}\n",
       "\n",
       ".xr-var-dtype {\n",
       "  grid-column: 3;\n",
       "  text-align: right;\n",
       "  color: var(--xr-font-color2);\n",
       "}\n",
       "\n",
       ".xr-var-preview {\n",
       "  grid-column: 4;\n",
       "}\n",
       "\n",
       ".xr-var-name,\n",
       ".xr-var-dims,\n",
       ".xr-var-dtype,\n",
       ".xr-preview,\n",
       ".xr-attrs dt {\n",
       "  white-space: nowrap;\n",
       "  overflow: hidden;\n",
       "  text-overflow: ellipsis;\n",
       "  padding-right: 10px;\n",
       "}\n",
       "\n",
       ".xr-var-name:hover,\n",
       ".xr-var-dims:hover,\n",
       ".xr-var-dtype:hover,\n",
       ".xr-attrs dt:hover {\n",
       "  overflow: visible;\n",
       "  width: auto;\n",
       "  z-index: 1;\n",
       "}\n",
       "\n",
       ".xr-var-attrs,\n",
       ".xr-var-data {\n",
       "  display: none;\n",
       "  background-color: var(--xr-background-color) !important;\n",
       "  padding-bottom: 5px !important;\n",
       "}\n",
       "\n",
       ".xr-var-attrs-in:checked ~ .xr-var-attrs,\n",
       ".xr-var-data-in:checked ~ .xr-var-data {\n",
       "  display: block;\n",
       "}\n",
       "\n",
       ".xr-var-data > table {\n",
       "  float: right;\n",
       "}\n",
       "\n",
       ".xr-var-name span,\n",
       ".xr-var-data,\n",
       ".xr-attrs {\n",
       "  padding-left: 25px !important;\n",
       "}\n",
       "\n",
       ".xr-attrs,\n",
       ".xr-var-attrs,\n",
       ".xr-var-data {\n",
       "  grid-column: 1 / -1;\n",
       "}\n",
       "\n",
       "dl.xr-attrs {\n",
       "  padding: 0;\n",
       "  margin: 0;\n",
       "  display: grid;\n",
       "  grid-template-columns: 125px auto;\n",
       "}\n",
       "\n",
       ".xr-attrs dt,\n",
       ".xr-attrs dd {\n",
       "  padding: 0;\n",
       "  margin: 0;\n",
       "  float: left;\n",
       "  padding-right: 10px;\n",
       "  width: auto;\n",
       "}\n",
       "\n",
       ".xr-attrs dt {\n",
       "  font-weight: normal;\n",
       "  grid-column: 1;\n",
       "}\n",
       "\n",
       ".xr-attrs dt:hover span {\n",
       "  display: inline-block;\n",
       "  background: var(--xr-background-color);\n",
       "  padding-right: 10px;\n",
       "}\n",
       "\n",
       ".xr-attrs dd {\n",
       "  grid-column: 2;\n",
       "  white-space: pre-wrap;\n",
       "  word-break: break-all;\n",
       "}\n",
       "\n",
       ".xr-icon-database,\n",
       ".xr-icon-file-text2 {\n",
       "  display: inline-block;\n",
       "  vertical-align: middle;\n",
       "  width: 1em;\n",
       "  height: 1.5em !important;\n",
       "  stroke-width: 0;\n",
       "  stroke: currentColor;\n",
       "  fill: currentColor;\n",
       "}\n",
       "</style><pre class='xr-text-repr-fallback'>&lt;xarray.DataArray &#x27;Wind_speed_gust_surface&#x27; (time: 1, lat: 1, lon: 1)&gt;\n",
       "array([[[6.105666]]], dtype=float32)\n",
       "Coordinates:\n",
       "    reftime  (time) datetime64[ns] 2021-03-04T06:00:00\n",
       "  * time     (time) datetime64[ns] 2021-03-06\n",
       "  * lat      (lat) float32 18.5\n",
       "  * lon      (lon) float32 294.0\n",
       "Attributes:\n",
       "    long_name:                      Wind speed (gust) @ Ground or water surface\n",
       "    units:                          m/s\n",
       "    abbreviation:                   GUST\n",
       "    grid_mapping:                   LatLon_Projection\n",
       "    Grib_Variable_Id:               VAR_0-2-22_L1\n",
       "    Grib2_Parameter:                [ 0  2 22]\n",
       "    Grib2_Parameter_Discipline:     Meteorological products\n",
       "    Grib2_Parameter_Category:       Momentum\n",
       "    Grib2_Parameter_Name:           Wind speed (gust)\n",
       "    Grib2_Level_Type:               1\n",
       "    Grib2_Level_Desc:               Ground or water surface\n",
       "    Grib2_Generating_Process_Type:  Forecast</pre><div class='xr-wrap' hidden><div class='xr-header'><div class='xr-obj-type'>xarray.DataArray</div><div class='xr-array-name'>'Wind_speed_gust_surface'</div><ul class='xr-dim-list'><li><span class='xr-has-index'>time</span>: 1</li><li><span class='xr-has-index'>lat</span>: 1</li><li><span class='xr-has-index'>lon</span>: 1</li></ul></div><ul class='xr-sections'><li class='xr-section-item'><div class='xr-array-wrap'><input id='section-e70eda22-ae9a-4c99-af20-c3ed76882c11' class='xr-array-in' type='checkbox' checked><label for='section-e70eda22-ae9a-4c99-af20-c3ed76882c11' title='Show/hide data repr'><svg class='icon xr-icon-database'><use xlink:href='#icon-database'></use></svg></label><div class='xr-array-preview xr-preview'><span>6.106</span></div><div class='xr-array-data'><pre>array([[[6.105666]]], dtype=float32)</pre></div></div></li><li class='xr-section-item'><input id='section-bef9014f-45df-4c17-957c-8a759f069ce4' class='xr-section-summary-in' type='checkbox'  checked><label for='section-bef9014f-45df-4c17-957c-8a759f069ce4' class='xr-section-summary' >Coordinates: <span>(4)</span></label><div class='xr-section-inline-details'></div><div class='xr-section-details'><ul class='xr-var-list'><li class='xr-var-item'><div class='xr-var-name'><span>reftime</span></div><div class='xr-var-dims'>(time)</div><div class='xr-var-dtype'>datetime64[ns]</div><div class='xr-var-preview xr-preview'>...</div><input id='attrs-61bccc02-3c53-4ab2-8170-07d7da5ea348' class='xr-var-attrs-in' type='checkbox' ><label for='attrs-61bccc02-3c53-4ab2-8170-07d7da5ea348' title='Show/Hide attributes'><svg class='icon xr-icon-file-text2'><use xlink:href='#icon-file-text2'></use></svg></label><input id='data-ae53eae1-7f65-44df-9a47-127695d78718' class='xr-var-data-in' type='checkbox'><label for='data-ae53eae1-7f65-44df-9a47-127695d78718' title='Show/Hide data repr'><svg class='icon xr-icon-database'><use xlink:href='#icon-database'></use></svg></label><div class='xr-var-attrs'><dl class='xr-attrs'><dt><span>standard_name :</span></dt><dd>forecast_reference_time</dd><dt><span>long_name :</span></dt><dd>GRIB reference time</dd><dt><span>_CoordinateAxisType :</span></dt><dd>RunTime</dd></dl></div><div class='xr-var-data'><pre>array([&#x27;2021-03-04T06:00:00.000000000&#x27;], dtype=&#x27;datetime64[ns]&#x27;)</pre></div></li><li class='xr-var-item'><div class='xr-var-name'><span class='xr-has-index'>time</span></div><div class='xr-var-dims'>(time)</div><div class='xr-var-dtype'>datetime64[ns]</div><div class='xr-var-preview xr-preview'>2021-03-06</div><input id='attrs-972340e8-7dde-4f7b-8878-1f84f65938fb' class='xr-var-attrs-in' type='checkbox' ><label for='attrs-972340e8-7dde-4f7b-8878-1f84f65938fb' title='Show/Hide attributes'><svg class='icon xr-icon-file-text2'><use xlink:href='#icon-file-text2'></use></svg></label><input id='data-62d433d9-f942-4c43-aa66-1c01eff4f66d' class='xr-var-data-in' type='checkbox'><label for='data-62d433d9-f942-4c43-aa66-1c01eff4f66d' title='Show/Hide data repr'><svg class='icon xr-icon-database'><use xlink:href='#icon-database'></use></svg></label><div class='xr-var-attrs'><dl class='xr-attrs'><dt><span>standard_name :</span></dt><dd>time</dd><dt><span>long_name :</span></dt><dd>GRIB forecast or observation time</dd><dt><span>_CoordinateAxisType :</span></dt><dd>Time</dd></dl></div><div class='xr-var-data'><pre>array([&#x27;2021-03-06T00:00:00.000000000&#x27;], dtype=&#x27;datetime64[ns]&#x27;)</pre></div></li><li class='xr-var-item'><div class='xr-var-name'><span class='xr-has-index'>lat</span></div><div class='xr-var-dims'>(lat)</div><div class='xr-var-dtype'>float32</div><div class='xr-var-preview xr-preview'>18.5</div><input id='attrs-974d3a4a-d846-42cd-96a4-da05aa5971f4' class='xr-var-attrs-in' type='checkbox' ><label for='attrs-974d3a4a-d846-42cd-96a4-da05aa5971f4' title='Show/Hide attributes'><svg class='icon xr-icon-file-text2'><use xlink:href='#icon-file-text2'></use></svg></label><input id='data-ef44bbd0-f7a1-4fb3-a85b-4631d1c3be0b' class='xr-var-data-in' type='checkbox'><label for='data-ef44bbd0-f7a1-4fb3-a85b-4631d1c3be0b' title='Show/Hide data repr'><svg class='icon xr-icon-database'><use xlink:href='#icon-database'></use></svg></label><div class='xr-var-attrs'><dl class='xr-attrs'><dt><span>units :</span></dt><dd>degrees_north</dd><dt><span>_CoordinateAxisType :</span></dt><dd>Lat</dd><dt><span>standard_name :</span></dt><dd>latitude</dd></dl></div><div class='xr-var-data'><pre>array([18.5], dtype=float32)</pre></div></li><li class='xr-var-item'><div class='xr-var-name'><span class='xr-has-index'>lon</span></div><div class='xr-var-dims'>(lon)</div><div class='xr-var-dtype'>float32</div><div class='xr-var-preview xr-preview'>294.0</div><input id='attrs-8b143011-4adf-4e97-9872-d81d25f33c98' class='xr-var-attrs-in' type='checkbox' ><label for='attrs-8b143011-4adf-4e97-9872-d81d25f33c98' title='Show/Hide attributes'><svg class='icon xr-icon-file-text2'><use xlink:href='#icon-file-text2'></use></svg></label><input id='data-7b3298d9-06be-4a08-b773-f98c1ed65df5' class='xr-var-data-in' type='checkbox'><label for='data-7b3298d9-06be-4a08-b773-f98c1ed65df5' title='Show/Hide data repr'><svg class='icon xr-icon-database'><use xlink:href='#icon-database'></use></svg></label><div class='xr-var-attrs'><dl class='xr-attrs'><dt><span>units :</span></dt><dd>degrees_east</dd><dt><span>_CoordinateAxisType :</span></dt><dd>Lon</dd><dt><span>standard_name :</span></dt><dd>longitude</dd></dl></div><div class='xr-var-data'><pre>array([294.], dtype=float32)</pre></div></li></ul></div></li><li class='xr-section-item'><input id='section-55b041f9-f3c4-451e-ae56-692e95fee5af' class='xr-section-summary-in' type='checkbox'  ><label for='section-55b041f9-f3c4-451e-ae56-692e95fee5af' class='xr-section-summary' >Attributes: <span>(12)</span></label><div class='xr-section-inline-details'></div><div class='xr-section-details'><dl class='xr-attrs'><dt><span>long_name :</span></dt><dd>Wind speed (gust) @ Ground or water surface</dd><dt><span>units :</span></dt><dd>m/s</dd><dt><span>abbreviation :</span></dt><dd>GUST</dd><dt><span>grid_mapping :</span></dt><dd>LatLon_Projection</dd><dt><span>Grib_Variable_Id :</span></dt><dd>VAR_0-2-22_L1</dd><dt><span>Grib2_Parameter :</span></dt><dd>[ 0  2 22]</dd><dt><span>Grib2_Parameter_Discipline :</span></dt><dd>Meteorological products</dd><dt><span>Grib2_Parameter_Category :</span></dt><dd>Momentum</dd><dt><span>Grib2_Parameter_Name :</span></dt><dd>Wind speed (gust)</dd><dt><span>Grib2_Level_Type :</span></dt><dd>1</dd><dt><span>Grib2_Level_Desc :</span></dt><dd>Ground or water surface</dd><dt><span>Grib2_Generating_Process_Type :</span></dt><dd>Forecast</dd></dl></div></li></ul></div></div>"
      ],
      "text/plain": [
       "<xarray.DataArray 'Wind_speed_gust_surface' (time: 1, lat: 1, lon: 1)>\n",
       "array([[[6.105666]]], dtype=float32)\n",
       "Coordinates:\n",
       "    reftime  (time) datetime64[ns] ...\n",
       "  * time     (time) datetime64[ns] 2021-03-06\n",
       "  * lat      (lat) float32 18.5\n",
       "  * lon      (lon) float32 294.0\n",
       "Attributes:\n",
       "    long_name:                      Wind speed (gust) @ Ground or water surface\n",
       "    units:                          m/s\n",
       "    abbreviation:                   GUST\n",
       "    grid_mapping:                   LatLon_Projection\n",
       "    Grib_Variable_Id:               VAR_0-2-22_L1\n",
       "    Grib2_Parameter:                [ 0  2 22]\n",
       "    Grib2_Parameter_Discipline:     Meteorological products\n",
       "    Grib2_Parameter_Category:       Momentum\n",
       "    Grib2_Parameter_Name:           Wind speed (gust)\n",
       "    Grib2_Level_Type:               1\n",
       "    Grib2_Level_Desc:               Ground or water surface\n",
       "    Grib2_Generating_Process_Type:  Forecast"
      ]
     },
     "execution_count": 43,
     "metadata": {},
     "output_type": "execute_result"
    },
    {
     "data": {
      "application/javascript": [
       "\n",
       "            setTimeout(function() {\n",
       "                var nbb_cell_id = 43;\n",
       "                var nbb_unformatted_code = \"# We want to inpect the variable Wind_speed_gust_surface\\nwind_3d = data.Wind_speed_gust_surface\\nwind_3d\";\n",
       "                var nbb_formatted_code = \"# We want to inpect the variable Wind_speed_gust_surface\\nwind_3d = data.Wind_speed_gust_surface\\nwind_3d\";\n",
       "                var nbb_cells = Jupyter.notebook.get_cells();\n",
       "                for (var i = 0; i < nbb_cells.length; ++i) {\n",
       "                    if (nbb_cells[i].input_prompt_number == nbb_cell_id) {\n",
       "                        if (nbb_cells[i].get_text() == nbb_unformatted_code) {\n",
       "                             nbb_cells[i].set_text(nbb_formatted_code);\n",
       "                        }\n",
       "                        break;\n",
       "                    }\n",
       "                }\n",
       "            }, 500);\n",
       "            "
      ],
      "text/plain": [
       "<IPython.core.display.Javascript object>"
      ]
     },
     "metadata": {},
     "output_type": "display_data"
    }
   ],
   "source": [
    "# We want to inpect the variable Wind_speed_gust_surface\n",
    "wind_3d = data.Wind_speed_gust_surface\n",
    "wind_3d"
   ]
  },
  {
   "cell_type": "code",
   "execution_count": 30,
   "metadata": {
    "ExecuteTime": {
     "end_time": "2021-03-04T14:48:05.859497Z",
     "start_time": "2021-03-04T14:48:05.836898Z"
    }
   },
   "outputs": [
    {
     "data": {
      "application/javascript": [
       "\n",
       "            setTimeout(function() {\n",
       "                var nbb_cell_id = 30;\n",
       "                var nbb_unformatted_code = \"# Helper function for finding proper time variable\\ndef find_time_var(var, time_basename=\\\"time\\\"):\\n    for coord_name in var.coords:\\n        if coord_name.startswith(time_basename):\\n            return var.coords[coord_name]\\n    raise ValueError(\\\"No time variable found for \\\" + var.name)\\n\\n\\nlat_1d = data[\\\"lat\\\"]\\nlon_1d = data[\\\"lon\\\"]\";\n",
       "                var nbb_formatted_code = \"# Helper function for finding proper time variable\\ndef find_time_var(var, time_basename=\\\"time\\\"):\\n    for coord_name in var.coords:\\n        if coord_name.startswith(time_basename):\\n            return var.coords[coord_name]\\n    raise ValueError(\\\"No time variable found for \\\" + var.name)\\n\\n\\nlat_1d = data[\\\"lat\\\"]\\nlon_1d = data[\\\"lon\\\"]\";\n",
       "                var nbb_cells = Jupyter.notebook.get_cells();\n",
       "                for (var i = 0; i < nbb_cells.length; ++i) {\n",
       "                    if (nbb_cells[i].input_prompt_number == nbb_cell_id) {\n",
       "                        if (nbb_cells[i].get_text() == nbb_unformatted_code) {\n",
       "                             nbb_cells[i].set_text(nbb_formatted_code);\n",
       "                        }\n",
       "                        break;\n",
       "                    }\n",
       "                }\n",
       "            }, 500);\n",
       "            "
      ],
      "text/plain": [
       "<IPython.core.display.Javascript object>"
      ]
     },
     "metadata": {},
     "output_type": "display_data"
    }
   ],
   "source": [
    "# Helper function for finding proper time variable\n",
    "def find_time_var(var, time_basename=\"time\"):\n",
    "    for coord_name in var.coords:\n",
    "        if coord_name.startswith(time_basename):\n",
    "            return var.coords[coord_name]\n",
    "    raise ValueError(\"No time variable found for \" + var.name)\n",
    "\n",
    "\n",
    "lat_1d = data[\"lat\"]\n",
    "lon_1d = data[\"lon\"]"
   ]
  },
  {
   "cell_type": "code",
   "execution_count": 31,
   "metadata": {
    "ExecuteTime": {
     "end_time": "2021-03-04T14:48:08.134489Z",
     "start_time": "2021-03-04T14:48:08.109670Z"
    }
   },
   "outputs": [
    {
     "data": {
      "text/plain": [
       "'00'"
      ]
     },
     "execution_count": 31,
     "metadata": {},
     "output_type": "execute_result"
    },
    {
     "data": {
      "application/javascript": [
       "\n",
       "            setTimeout(function() {\n",
       "                var nbb_cell_id = 31;\n",
       "                var nbb_unformatted_code = \"# Get forecasted date and time\\n\\n# split in date and time\\ntime_1d = find_time_var(wind_3d)\\nforecast_datetime_raw = time_1d[0].values\\nforecast_datetime_split = str(forecast_datetime_raw).split(\\\"T\\\")\\n\\n# date\\nforecast_date = forecast_datetime_split[0]\\n\\n# time\\nforecast_time = forecast_datetime_split[1].split(\\\":\\\")[0]\\nforecast_time\";\n",
       "                var nbb_formatted_code = \"# Get forecasted date and time\\n\\n# split in date and time\\ntime_1d = find_time_var(wind_3d)\\nforecast_datetime_raw = time_1d[0].values\\nforecast_datetime_split = str(forecast_datetime_raw).split(\\\"T\\\")\\n\\n# date\\nforecast_date = forecast_datetime_split[0]\\n\\n# time\\nforecast_time = forecast_datetime_split[1].split(\\\":\\\")[0]\\nforecast_time\";\n",
       "                var nbb_cells = Jupyter.notebook.get_cells();\n",
       "                for (var i = 0; i < nbb_cells.length; ++i) {\n",
       "                    if (nbb_cells[i].input_prompt_number == nbb_cell_id) {\n",
       "                        if (nbb_cells[i].get_text() == nbb_unformatted_code) {\n",
       "                             nbb_cells[i].set_text(nbb_formatted_code);\n",
       "                        }\n",
       "                        break;\n",
       "                    }\n",
       "                }\n",
       "            }, 500);\n",
       "            "
      ],
      "text/plain": [
       "<IPython.core.display.Javascript object>"
      ]
     },
     "metadata": {},
     "output_type": "display_data"
    }
   ],
   "source": [
    "# Get forecasted date and time\n",
    "\n",
    "# split in date and time\n",
    "time_1d = find_time_var(wind_3d)\n",
    "forecast_datetime_raw = time_1d[0].values\n",
    "forecast_datetime_split = str(forecast_datetime_raw).split(\"T\")\n",
    "\n",
    "# date\n",
    "forecast_date = forecast_datetime_split[0]\n",
    "\n",
    "# time\n",
    "forecast_time = forecast_datetime_split[1].split(\":\")[0]\n",
    "forecast_time"
   ]
  },
  {
   "cell_type": "code",
   "execution_count": 21,
   "metadata": {
    "ExecuteTime": {
     "end_time": "2021-03-04T14:45:54.975096Z",
     "start_time": "2021-03-04T14:45:54.709623Z"
    }
   },
   "outputs": [
    {
     "data": {
      "application/javascript": [
       "\n",
       "            setTimeout(function() {\n",
       "                var nbb_cell_id = 21;\n",
       "                var nbb_unformatted_code = \"import numpy as np\\nfrom netCDF4 import num2date\\nfrom metpy.units import units\";\n",
       "                var nbb_formatted_code = \"import numpy as np\\nfrom netCDF4 import num2date\\nfrom metpy.units import units\";\n",
       "                var nbb_cells = Jupyter.notebook.get_cells();\n",
       "                for (var i = 0; i < nbb_cells.length; ++i) {\n",
       "                    if (nbb_cells[i].input_prompt_number == nbb_cell_id) {\n",
       "                        if (nbb_cells[i].get_text() == nbb_unformatted_code) {\n",
       "                             nbb_cells[i].set_text(nbb_formatted_code);\n",
       "                        }\n",
       "                        break;\n",
       "                    }\n",
       "                }\n",
       "            }, 500);\n",
       "            "
      ],
      "text/plain": [
       "<IPython.core.display.Javascript object>"
      ]
     },
     "metadata": {},
     "output_type": "display_data"
    }
   ],
   "source": [
    "import numpy as np\n",
    "from netCDF4 import num2date\n",
    "from metpy.units import units"
   ]
  },
  {
   "cell_type": "code",
   "execution_count": 32,
   "metadata": {
    "ExecuteTime": {
     "end_time": "2021-03-04T14:48:12.425906Z",
     "start_time": "2021-03-04T14:48:12.404567Z"
    }
   },
   "outputs": [
    {
     "data": {
      "application/javascript": [
       "\n",
       "            setTimeout(function() {\n",
       "                var nbb_cell_id = 32;\n",
       "                var nbb_unformatted_code = \"# Reduce the dimensions of the data and get as an array with units\\nwind_2d = wind_3d.metpy.unit_array.squeeze()\\n\\n# Combine latitude and longitudes\\nlon_2d, lat_2d = np.meshgrid(lon_1d, lat_1d)\";\n",
       "                var nbb_formatted_code = \"# Reduce the dimensions of the data and get as an array with units\\nwind_2d = wind_3d.metpy.unit_array.squeeze()\\n\\n# Combine latitude and longitudes\\nlon_2d, lat_2d = np.meshgrid(lon_1d, lat_1d)\";\n",
       "                var nbb_cells = Jupyter.notebook.get_cells();\n",
       "                for (var i = 0; i < nbb_cells.length; ++i) {\n",
       "                    if (nbb_cells[i].input_prompt_number == nbb_cell_id) {\n",
       "                        if (nbb_cells[i].get_text() == nbb_unformatted_code) {\n",
       "                             nbb_cells[i].set_text(nbb_formatted_code);\n",
       "                        }\n",
       "                        break;\n",
       "                    }\n",
       "                }\n",
       "            }, 500);\n",
       "            "
      ],
      "text/plain": [
       "<IPython.core.display.Javascript object>"
      ]
     },
     "metadata": {},
     "output_type": "display_data"
    }
   ],
   "source": [
    "# Reduce the dimensions of the data and get as an array with units\n",
    "wind_2d = wind_3d.metpy.unit_array.squeeze()\n",
    "\n",
    "# Combine latitude and longitudes\n",
    "lon_2d, lat_2d = np.meshgrid(lon_1d, lat_1d)"
   ]
  },
  {
   "cell_type": "code",
   "execution_count": 23,
   "metadata": {
    "ExecuteTime": {
     "end_time": "2021-03-04T14:45:55.432164Z",
     "start_time": "2021-03-04T14:45:54.986698Z"
    }
   },
   "outputs": [
    {
     "data": {
      "application/javascript": [
       "\n",
       "            setTimeout(function() {\n",
       "                var nbb_cell_id = 23;\n",
       "                var nbb_unformatted_code = \"import matplotlib.pyplot as plt\\nimport cartopy.crs as ccrs\\nimport cartopy.feature as cfeature\\nfrom metpy.plots import ctables\";\n",
       "                var nbb_formatted_code = \"import matplotlib.pyplot as plt\\nimport cartopy.crs as ccrs\\nimport cartopy.feature as cfeature\\nfrom metpy.plots import ctables\";\n",
       "                var nbb_cells = Jupyter.notebook.get_cells();\n",
       "                for (var i = 0; i < nbb_cells.length; ++i) {\n",
       "                    if (nbb_cells[i].input_prompt_number == nbb_cell_id) {\n",
       "                        if (nbb_cells[i].get_text() == nbb_unformatted_code) {\n",
       "                             nbb_cells[i].set_text(nbb_formatted_code);\n",
       "                        }\n",
       "                        break;\n",
       "                    }\n",
       "                }\n",
       "            }, 500);\n",
       "            "
      ],
      "text/plain": [
       "<IPython.core.display.Javascript object>"
      ]
     },
     "metadata": {},
     "output_type": "display_data"
    }
   ],
   "source": [
    "import matplotlib.pyplot as plt\n",
    "import cartopy.crs as ccrs\n",
    "import cartopy.feature as cfeature\n",
    "from metpy.plots import ctables"
   ]
  },
  {
   "cell_type": "code",
   "execution_count": 35,
   "metadata": {
    "ExecuteTime": {
     "end_time": "2021-03-04T14:48:33.116523Z",
     "start_time": "2021-03-04T14:48:32.952458Z"
    }
   },
   "outputs": [
    {
     "data": {
      "image/png": "[encoded data removed]",
      "text/plain": [
       "<Figure size 1440x720 with 1 Axes>"
      ]
     },
     "metadata": {
      "needs_background": "light"
     },
     "output_type": "display_data"
    },
    {
     "data": {
      "application/javascript": [
       "\n",
       "            setTimeout(function() {\n",
       "                var nbb_cell_id = 35;\n",
       "                var nbb_unformatted_code = \"fig = plt.figure(figsize=(20, 10))\\nfig.suptitle(\\n    \\\"{variable} forecasted for {date} at {time} o'clock UTC\\\".format(\\n        variable=wind_3d.name, date=forecast_date, time=forecast_time\\n    )\\n)\\nax = plt.axes(projection=ccrs.PlateCarree())\\nax.add_feature(cfeature.STATES, edgecolor=\\\"gray\\\")\\nax.coastlines()\\np = wind_3d.isel(time=0).plot(transform=ccrs.PlateCarree())#, cmap=\\\"Reds\\\")\";\n",
       "                var nbb_formatted_code = \"fig = plt.figure(figsize=(20, 10))\\nfig.suptitle(\\n    \\\"{variable} forecasted for {date} at {time} o'clock UTC\\\".format(\\n        variable=wind_3d.name, date=forecast_date, time=forecast_time\\n    )\\n)\\nax = plt.axes(projection=ccrs.PlateCarree())\\nax.add_feature(cfeature.STATES, edgecolor=\\\"gray\\\")\\nax.coastlines()\\np = wind_3d.isel(time=0).plot(transform=ccrs.PlateCarree())  # , cmap=\\\"Reds\\\")\";\n",
       "                var nbb_cells = Jupyter.notebook.get_cells();\n",
       "                for (var i = 0; i < nbb_cells.length; ++i) {\n",
       "                    if (nbb_cells[i].input_prompt_number == nbb_cell_id) {\n",
       "                        if (nbb_cells[i].get_text() == nbb_unformatted_code) {\n",
       "                             nbb_cells[i].set_text(nbb_formatted_code);\n",
       "                        }\n",
       "                        break;\n",
       "                    }\n",
       "                }\n",
       "            }, 500);\n",
       "            "
      ],
      "text/plain": [
       "<IPython.core.display.Javascript object>"
      ]
     },
     "metadata": {},
     "output_type": "display_data"
    }
   ],
   "source": [
    "fig = plt.figure(figsize=(20, 10))\n",
    "fig.suptitle(\n",
    "    \"{variable} forecasted for {date} at {time} o'clock UTC\".format(\n",
    "        variable=wind_3d.name, date=forecast_date, time=forecast_time\n",
    "    )\n",
    ")\n",
    "ax = plt.axes(projection=ccrs.PlateCarree())\n",
    "ax.add_feature(cfeature.STATES, edgecolor=\"gray\")\n",
    "ax.coastlines()\n",
    "p = wind_3d.isel(time=0).plot(transform=ccrs.PlateCarree(), robust=True, cmap=\"Reds\")"
   ]
  },
  {
   "cell_type": "code",
   "execution_count": null,
   "metadata": {
    "ExecuteTime": {
     "end_time": "2021-03-04T14:45:57.291936Z",
     "start_time": "2021-03-04T14:45:48.899Z"
    }
   },
   "outputs": [],
   "source": [
    "from IPython.display import Image\n",
    "\n",
    "PATH = \"/home/imke/Desktop/MariData/Data/GFS/images/\"\n",
    "image = Image(filename=PATH + \"MediterraneanSea.png\", width=800, height=800)\n",
    "image"
   ]
  },
  {
   "cell_type": "code",
   "execution_count": null,
   "metadata": {
    "ExecuteTime": {
     "end_time": "2021-03-04T14:45:57.292698Z",
     "start_time": "2021-03-04T14:45:48.901Z"
    }
   },
   "outputs": [],
   "source": [
    "from siphon.catalog import TDSCatalog\n",
    "\n",
    "\"\"\"\n",
    "    Read a catalog from THREDDS Data Server\n",
    "    First we construct a TDSCatalog instance pointing to our dataset of interest, in this case TDS’ “Best” virtual\n",
    "    dataset for the GFS global 0.25 degree collection of GRIB files. This will give us a good resolution \n",
    "    for our map. This catalog contains a single dataset.\n",
    "\"\"\"\n",
    "best_gfs = TDSCatalog(\n",
    "    \"http://thredds.ucar.edu/thredds/catalog/grib/NCEP/GFS/\"\n",
    "    \"Global_0p25deg/catalog.xml?dataset=grib/NCEP/GFS/Global_0p25deg/Best\"\n",
    ")\n",
    "best_gfs.datasets"
   ]
  },
  {
   "cell_type": "code",
   "execution_count": null,
   "metadata": {
    "ExecuteTime": {
     "end_time": "2021-03-04T14:45:57.293417Z",
     "start_time": "2021-03-04T14:45:48.903Z"
    }
   },
   "outputs": [],
   "source": [
    "# We pull out this dataset and call subset() to set up requesting a subset of the data.\n",
    "best_ds = list(best_gfs.datasets.values())[0]\n",
    "ncss = best_ds.subset()"
   ]
  },
  {
   "cell_type": "code",
   "execution_count": null,
   "metadata": {
    "ExecuteTime": {
     "end_time": "2021-03-04T14:45:57.294153Z",
     "start_time": "2021-03-04T14:45:48.905Z"
    }
   },
   "outputs": [],
   "source": [
    "query = ncss.query()"
   ]
  },
  {
   "cell_type": "code",
   "execution_count": null,
   "metadata": {
    "ExecuteTime": {
     "end_time": "2021-03-04T14:45:57.294890Z",
     "start_time": "2021-03-04T14:45:48.906Z"
    }
   },
   "outputs": [],
   "source": [
    "ncss.variables"
   ]
  },
  {
   "cell_type": "code",
   "execution_count": null,
   "metadata": {
    "ExecuteTime": {
     "end_time": "2021-03-04T14:45:57.295594Z",
     "start_time": "2021-03-04T14:45:48.907Z"
    }
   },
   "outputs": [],
   "source": [
    "# now we want to query a subset with a certain bounding box and variable\n",
    "from datetime import datetime\n",
    "\n",
    "query.lonlat_box(north=fe_North, south=fe_South, east=fe_East, west=fe_West).time(\n",
    "    datetime.utcnow()\n",
    ")\n",
    "query.accept(\"netcdf4\")\n",
    "query.variables(\"Temperature_surface\")"
   ]
  },
  {
   "cell_type": "code",
   "execution_count": null,
   "metadata": {
    "ExecuteTime": {
     "end_time": "2021-03-04T14:45:57.296324Z",
     "start_time": "2021-03-04T14:45:48.908Z"
    }
   },
   "outputs": [],
   "source": [
    "from xarray.backends import NetCDF4DataStore\n",
    "import xarray as xr\n",
    "\n",
    "data = ncss.get_data(query)\n",
    "data = xr.open_dataset(NetCDF4DataStore(data))\n",
    "data"
   ]
  },
  {
   "cell_type": "code",
   "execution_count": null,
   "metadata": {
    "ExecuteTime": {
     "end_time": "2021-03-04T14:45:57.297053Z",
     "start_time": "2021-03-04T14:45:48.909Z"
    }
   },
   "outputs": [],
   "source": [
    "temp_3d = data.Temperature_surface"
   ]
  },
  {
   "cell_type": "code",
   "execution_count": null,
   "metadata": {
    "ExecuteTime": {
     "end_time": "2021-03-04T14:45:57.298104Z",
     "start_time": "2021-03-04T14:45:48.910Z"
    }
   },
   "outputs": [],
   "source": [
    "import pandas as pd\n",
    "\n",
    "# Helper function for finding proper time variable\n",
    "def find_time_var(var, time_basename=\"time\"):\n",
    "    for coord_name in var.coords:\n",
    "        if coord_name.startswith(time_basename):\n",
    "            return var.coords[coord_name]\n",
    "    raise ValueError(\"No time variable found for \" + var.name)\n",
    "\n",
    "\n",
    "lat_1d = data[\"lat\"]\n",
    "lon_1d = data[\"lon\"]"
   ]
  },
  {
   "cell_type": "code",
   "execution_count": null,
   "metadata": {
    "ExecuteTime": {
     "end_time": "2021-03-04T14:45:57.299707Z",
     "start_time": "2021-03-04T14:45:48.911Z"
    }
   },
   "outputs": [],
   "source": [
    "# Get forecasted date and time\n",
    "\n",
    "# split in date and time\n",
    "time_1d = find_time_var(temp_3d)\n",
    "forecast_datetime_raw = time_1d[0].values\n",
    "forecast_datetime_split = str(forecast_datetime_raw).split(\"T\")\n",
    "\n",
    "# date\n",
    "forecast_date = forecast_datetime_split[0]\n",
    "\n",
    "# time\n",
    "forecast_time = forecast_datetime_split[1].split(\":\")[0]"
   ]
  },
  {
   "cell_type": "code",
   "execution_count": null,
   "metadata": {
    "ExecuteTime": {
     "end_time": "2021-03-04T14:45:57.301163Z",
     "start_time": "2021-03-04T14:45:48.912Z"
    }
   },
   "outputs": [],
   "source": [
    "fig = plt.figure(figsize=(20, 10))\n",
    "fig.suptitle(\n",
    "    \"{variable} forecasted for {date} at {time} o'clock UTC\".format(\n",
    "        variable=temp_3d.name, date=forecast_date, time=forecast_time\n",
    "    )\n",
    ")\n",
    "ax = plt.axes(projection=ccrs.PlateCarree())\n",
    "ax.coastlines()\n",
    "p = temp_3d.isel(time1=0).plot(transform=ccrs.PlateCarree(), robust=True, cmap=\"Reds\")"
   ]
  },
  {
   "cell_type": "code",
   "execution_count": null,
   "metadata": {
    "ExecuteTime": {
     "end_time": "2021-02-26T12:10:14.373147Z",
     "start_time": "2021-02-26T12:10:14.345243Z"
    }
   },
   "outputs": [],
   "source": []
  },
  {
   "cell_type": "code",
   "execution_count": null,
   "metadata": {
    "ExecuteTime": {
     "end_time": "2021-03-04T14:45:57.302452Z",
     "start_time": "2021-03-04T14:45:48.914Z"
    }
   },
   "outputs": [],
   "source": [
    "import numpy as np\n",
    "from netCDF4 import num2date\n",
    "from metpy.units import units\n",
    "\n",
    "# Reduce the dimensions of the data and get as an array with units\n",
    "temp_2d = temp_3d.metpy.unit_array.squeeze()\n",
    "\n",
    "# Combine latitude and longitudes\n",
    "lon_2d, lat_2d = np.meshgrid(lon_1d, lat_1d)"
   ]
  },
  {
   "cell_type": "code",
   "execution_count": null,
   "metadata": {
    "ExecuteTime": {
     "end_time": "2021-03-04T14:45:57.303219Z",
     "start_time": "2021-03-04T14:45:48.915Z"
    }
   },
   "outputs": [],
   "source": [
    "import matplotlib.pyplot as plt\n",
    "import cartopy.crs as ccrs\n",
    "import cartopy.feature as cfeature\n",
    "from metpy.plots import ctables"
   ]
  },
  {
   "cell_type": "code",
   "execution_count": null,
   "metadata": {
    "ExecuteTime": {
     "end_time": "2021-03-04T14:45:57.304041Z",
     "start_time": "2021-03-04T14:45:48.916Z"
    }
   },
   "outputs": [],
   "source": [
    "# Create a new figure\n",
    "fig = plt.figure(figsize=(15, 12))\n",
    "\n",
    "# Add the map and set the extent\n",
    "ax = plt.axes(projection=ccrs.PlateCarree())\n",
    "# ax.set_extent([-100.03, -111.03, 35, 43])\n",
    "ax.coastlines()\n",
    "# Retrieve the state boundaries using cFeature and add to plot\n",
    "# ax.add_feature(cfeature.STATES, edgecolor='gray')\n",
    "\n",
    "# Contour temperature at each lat/long\n",
    "contours = ax.contourf(\n",
    "    lon_2d, lat_2d, temp_2d.to(\"degF\"), 200, transform=ccrs.PlateCarree(), cmap=\"RdBu_r\"\n",
    ")\n",
    "# Plot a colorbar to show temperature and reduce the size of it\n",
    "fig.colorbar(contours)\n",
    "\n",
    "# Make a title with the time value\n",
    "ax.set_title(f\"Temperature forecast (\\u00b0F) for {time_1d[0].values}Z\", fontsize=20)\n",
    "\n",
    "# Plot markers for each lat/long to show grid points for 0.25 deg GFS\n",
    "ax.plot(\n",
    "    lon_2d.flatten(),\n",
    "    lat_2d.flatten(),\n",
    "    linestyle=\"none\",\n",
    "    marker=\"o\",\n",
    "    color=\"black\",\n",
    "    markersize=0.1,\n",
    "    alpha=0.1,\n",
    "    transform=ccrs.PlateCarree(),\n",
    ")"
   ]
  },
  {
   "cell_type": "code",
   "execution_count": null,
   "metadata": {
    "ExecuteTime": {
     "end_time": "2021-02-26T12:15:48.577845Z",
     "start_time": "2021-02-26T12:15:42.919670Z"
    }
   },
   "outputs": [],
   "source": []
  },
  {
   "cell_type": "code",
   "execution_count": null,
   "metadata": {},
   "outputs": [],
   "source": []
  }
 ],
 "metadata": {
  "kernelspec": {
   "display_name": "query_gfs",
   "language": "python",
   "name": "query_gfs"
  },
  "language_info": {
   "codemirror_mode": {
    "name": "ipython",
    "version": 3
   },
   "file_extension": ".py",
   "mimetype": "text/x-python",
   "name": "python",
   "nbconvert_exporter": "python",
   "pygments_lexer": "ipython3",
   "version": "3.8.5"
  }
 },
 "nbformat": 4,
 "nbformat_minor": 4
}
